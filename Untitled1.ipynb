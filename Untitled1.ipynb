{
 "cells": [
  {
   "cell_type": "code",
   "execution_count": 3,
   "metadata": {},
   "outputs": [
    {
     "name": "stderr",
     "output_type": "stream",
     "text": [
      "Using TensorFlow backend.\n"
     ]
    }
   ],
   "source": [
    "import os\n",
    "import numpy as np\n",
    "import pandas as pd\n",
    "import seaborn as sns\n",
    "import matplotlib.pyplot as plt\n",
    "from PIL import Image\n",
    "import glob\n",
    "import cv2\n",
    "from sklearn.model_selection import train_test_split\n",
    "from keras.layers import Dropout, Dense\n",
    "from keras.layers.normalization import BatchNormalization\n",
    "from keras.models import Sequential, load_model\n",
    "from keras.applications import VGG16\n",
    "from sklearn.metrics import accuracy_score, confusion_matrix"
   ]
  },
  {
   "cell_type": "code",
   "execution_count": 7,
   "metadata": {},
   "outputs": [
    {
     "name": "stdout",
     "output_type": "stream",
     "text": [
      "Number of images in Angry emotion = 350\n",
      "['Dataset/Angry/Angry_99.jpg', 'Dataset/Angry/Angry_98.jpg', 'Dataset/Angry/Angry_97.jpg', 'Dataset/Angry/Angry_96.jpg', 'Dataset/Angry/Angry_95.jpg', 'Dataset/Angry/Angry_94.jpg', 'Dataset/Angry/Angry_93.jpg', 'Dataset/Angry/Angry_92.jpg', 'Dataset/Angry/Angry_91.jpg', 'Dataset/Angry/Angry_90.jpg', 'Dataset/Angry/Angry_9.jpg', 'Dataset/Angry/Angry_89.jpg', 'Dataset/Angry/Angry_88.jpg', 'Dataset/Angry/Angry_87.jpg', 'Dataset/Angry/Angry_86.jpg', 'Dataset/Angry/Angry_85.jpg', 'Dataset/Angry/Angry_84.jpg', 'Dataset/Angry/Angry_83.jpg', 'Dataset/Angry/Angry_82.jpg', 'Dataset/Angry/Angry_81.jpg', 'Dataset/Angry/Angry_80.jpg', 'Dataset/Angry/Angry_8.jpg', 'Dataset/Angry/Angry_79.jpg', 'Dataset/Angry/Angry_78.jpg', 'Dataset/Angry/Angry_77.jpg', 'Dataset/Angry/Angry_76.jpg', 'Dataset/Angry/Angry_75.jpg', 'Dataset/Angry/Angry_74.jpg', 'Dataset/Angry/Angry_73.jpg', 'Dataset/Angry/Angry_72.jpg', 'Dataset/Angry/Angry_71.jpg', 'Dataset/Angry/Angry_70.jpg', 'Dataset/Angry/Angry_7.jpg', 'Dataset/Angry/Angry_69.jpg', 'Dataset/Angry/Angry_68.jpg', 'Dataset/Angry/Angry_67.jpg', 'Dataset/Angry/Angry_66.jpg', 'Dataset/Angry/Angry_65.jpg', 'Dataset/Angry/Angry_64.jpg', 'Dataset/Angry/Angry_63.jpg', 'Dataset/Angry/Angry_62.jpg', 'Dataset/Angry/Angry_61.jpg', 'Dataset/Angry/Angry_60.jpg', 'Dataset/Angry/Angry_6.jpg', 'Dataset/Angry/Angry_59.jpg', 'Dataset/Angry/Angry_58.jpg', 'Dataset/Angry/Angry_57.jpg', 'Dataset/Angry/Angry_56.jpg', 'Dataset/Angry/Angry_55.jpg', 'Dataset/Angry/Angry_54.jpg', 'Dataset/Angry/Angry_53.jpg', 'Dataset/Angry/Angry_52.jpg', 'Dataset/Angry/Angry_51.jpg', 'Dataset/Angry/Angry_50.jpg', 'Dataset/Angry/Angry_5.jpg', 'Dataset/Angry/Angry_49.jpg', 'Dataset/Angry/Angry_48.jpg', 'Dataset/Angry/Angry_47.jpg', 'Dataset/Angry/Angry_46.jpg', 'Dataset/Angry/Angry_45.jpg', 'Dataset/Angry/Angry_44.jpg', 'Dataset/Angry/Angry_43.jpg', 'Dataset/Angry/Angry_42.jpg', 'Dataset/Angry/Angry_41.jpg', 'Dataset/Angry/Angry_40.jpg', 'Dataset/Angry/Angry_4.jpg', 'Dataset/Angry/Angry_39.jpg', 'Dataset/Angry/Angry_38.jpg', 'Dataset/Angry/Angry_37.jpg', 'Dataset/Angry/Angry_36.jpg', 'Dataset/Angry/Angry_35.jpg', 'Dataset/Angry/Angry_349.jpg', 'Dataset/Angry/Angry_348.jpg', 'Dataset/Angry/Angry_347.jpg', 'Dataset/Angry/Angry_346.jpg', 'Dataset/Angry/Angry_345.jpg', 'Dataset/Angry/Angry_344.jpg', 'Dataset/Angry/Angry_343.jpg', 'Dataset/Angry/Angry_342.jpg', 'Dataset/Angry/Angry_341.jpg', 'Dataset/Angry/Angry_340.jpg', 'Dataset/Angry/Angry_34.jpg', 'Dataset/Angry/Angry_339.jpg', 'Dataset/Angry/Angry_338.jpg', 'Dataset/Angry/Angry_337.jpg', 'Dataset/Angry/Angry_336.jpg', 'Dataset/Angry/Angry_335.jpg', 'Dataset/Angry/Angry_334.jpg', 'Dataset/Angry/Angry_333.jpg', 'Dataset/Angry/Angry_332.jpg', 'Dataset/Angry/Angry_331.jpg', 'Dataset/Angry/Angry_330.jpg', 'Dataset/Angry/Angry_33.jpg', 'Dataset/Angry/Angry_329.jpg', 'Dataset/Angry/Angry_328.jpg', 'Dataset/Angry/Angry_327.jpg', 'Dataset/Angry/Angry_326.jpg', 'Dataset/Angry/Angry_325.jpg', 'Dataset/Angry/Angry_324.jpg', 'Dataset/Angry/Angry_323.jpg', 'Dataset/Angry/Angry_322.jpg', 'Dataset/Angry/Angry_321.jpg', 'Dataset/Angry/Angry_320.jpg', 'Dataset/Angry/Angry_32.jpg', 'Dataset/Angry/Angry_319.jpg', 'Dataset/Angry/Angry_318.jpg', 'Dataset/Angry/Angry_317.jpg', 'Dataset/Angry/Angry_316.jpg', 'Dataset/Angry/Angry_315.jpg', 'Dataset/Angry/Angry_314.jpg', 'Dataset/Angry/Angry_313.jpg', 'Dataset/Angry/Angry_312.jpg', 'Dataset/Angry/Angry_311.jpg', 'Dataset/Angry/Angry_310.jpg', 'Dataset/Angry/Angry_31.jpg', 'Dataset/Angry/Angry_309.jpg', 'Dataset/Angry/Angry_308.jpg', 'Dataset/Angry/Angry_307.jpg', 'Dataset/Angry/Angry_306.jpg', 'Dataset/Angry/Angry_305.jpg', 'Dataset/Angry/Angry_304.jpg', 'Dataset/Angry/Angry_303.jpg', 'Dataset/Angry/Angry_302.jpg', 'Dataset/Angry/Angry_301.jpg', 'Dataset/Angry/Angry_300.jpg', 'Dataset/Angry/Angry_30.jpg', 'Dataset/Angry/Angry_3.jpg', 'Dataset/Angry/Angry_299.jpg', 'Dataset/Angry/Angry_298.jpg', 'Dataset/Angry/Angry_297.jpg', 'Dataset/Angry/Angry_296.jpg', 'Dataset/Angry/Angry_295.jpg', 'Dataset/Angry/Angry_294.jpg', 'Dataset/Angry/Angry_293.jpg', 'Dataset/Angry/Angry_292.jpg', 'Dataset/Angry/Angry_291.jpg', 'Dataset/Angry/Angry_290.jpg', 'Dataset/Angry/Angry_29.jpg', 'Dataset/Angry/Angry_289.jpg', 'Dataset/Angry/Angry_288.jpg', 'Dataset/Angry/Angry_287.jpg', 'Dataset/Angry/Angry_286.jpg', 'Dataset/Angry/Angry_285.jpg', 'Dataset/Angry/Angry_284.jpg', 'Dataset/Angry/Angry_283.jpg', 'Dataset/Angry/Angry_282.jpg', 'Dataset/Angry/Angry_281.jpg', 'Dataset/Angry/Angry_280.jpg', 'Dataset/Angry/Angry_28.jpg', 'Dataset/Angry/Angry_279.jpg', 'Dataset/Angry/Angry_278.jpg', 'Dataset/Angry/Angry_277.jpg', 'Dataset/Angry/Angry_276.jpg', 'Dataset/Angry/Angry_275.jpg', 'Dataset/Angry/Angry_274.jpg', 'Dataset/Angry/Angry_273.jpg', 'Dataset/Angry/Angry_272.jpg', 'Dataset/Angry/Angry_271.jpg', 'Dataset/Angry/Angry_270.jpg', 'Dataset/Angry/Angry_27.jpg', 'Dataset/Angry/Angry_269.jpg', 'Dataset/Angry/Angry_268.jpg', 'Dataset/Angry/Angry_267.jpg', 'Dataset/Angry/Angry_266.jpg', 'Dataset/Angry/Angry_265.jpg', 'Dataset/Angry/Angry_264.jpg', 'Dataset/Angry/Angry_263.jpg', 'Dataset/Angry/Angry_262.jpg', 'Dataset/Angry/Angry_261.jpg', 'Dataset/Angry/Angry_260.jpg', 'Dataset/Angry/Angry_26.jpg', 'Dataset/Angry/Angry_259.jpg', 'Dataset/Angry/Angry_258.jpg', 'Dataset/Angry/Angry_257.jpg', 'Dataset/Angry/Angry_256.jpg', 'Dataset/Angry/Angry_255.jpg', 'Dataset/Angry/Angry_254.jpg', 'Dataset/Angry/Angry_253.jpg', 'Dataset/Angry/Angry_252.jpg', 'Dataset/Angry/Angry_251.jpg', 'Dataset/Angry/Angry_250.jpg', 'Dataset/Angry/Angry_25.jpg', 'Dataset/Angry/Angry_249.jpg', 'Dataset/Angry/Angry_248.jpg', 'Dataset/Angry/Angry_247.jpg', 'Dataset/Angry/Angry_246.jpg', 'Dataset/Angry/Angry_245.jpg', 'Dataset/Angry/Angry_244.jpg', 'Dataset/Angry/Angry_243.jpg', 'Dataset/Angry/Angry_242.jpg', 'Dataset/Angry/Angry_241.jpg', 'Dataset/Angry/Angry_240.jpg', 'Dataset/Angry/Angry_24.jpg', 'Dataset/Angry/Angry_239.jpg', 'Dataset/Angry/Angry_238.jpg', 'Dataset/Angry/Angry_237.jpg', 'Dataset/Angry/Angry_236.jpg', 'Dataset/Angry/Angry_235.jpg', 'Dataset/Angry/Angry_234.jpg', 'Dataset/Angry/Angry_233.jpg', 'Dataset/Angry/Angry_232.jpg', 'Dataset/Angry/Angry_231.jpg', 'Dataset/Angry/Angry_230.jpg', 'Dataset/Angry/Angry_23.jpg', 'Dataset/Angry/Angry_229.jpg', 'Dataset/Angry/Angry_228.jpg', 'Dataset/Angry/Angry_227.jpg', 'Dataset/Angry/Angry_226.jpg', 'Dataset/Angry/Angry_225.jpg', 'Dataset/Angry/Angry_224.jpg', 'Dataset/Angry/Angry_223.jpg', 'Dataset/Angry/Angry_222.jpg', 'Dataset/Angry/Angry_221.jpg', 'Dataset/Angry/Angry_220.jpg', 'Dataset/Angry/Angry_22.jpg', 'Dataset/Angry/Angry_219.jpg', 'Dataset/Angry/Angry_218.jpg', 'Dataset/Angry/Angry_217.jpg', 'Dataset/Angry/Angry_216.jpg', 'Dataset/Angry/Angry_215.jpg', 'Dataset/Angry/Angry_214.jpg', 'Dataset/Angry/Angry_213.jpg', 'Dataset/Angry/Angry_212.jpg', 'Dataset/Angry/Angry_211.jpg', 'Dataset/Angry/Angry_210.jpg', 'Dataset/Angry/Angry_21.jpg', 'Dataset/Angry/Angry_209.jpg', 'Dataset/Angry/Angry_208.jpg', 'Dataset/Angry/Angry_207.jpg', 'Dataset/Angry/Angry_206.jpg', 'Dataset/Angry/Angry_205.jpg', 'Dataset/Angry/Angry_204.jpg', 'Dataset/Angry/Angry_203.jpg', 'Dataset/Angry/Angry_202.jpg', 'Dataset/Angry/Angry_201.jpg', 'Dataset/Angry/Angry_200.jpg', 'Dataset/Angry/Angry_20.jpg', 'Dataset/Angry/Angry_2.jpg', 'Dataset/Angry/Angry_199.jpg', 'Dataset/Angry/Angry_198.jpg', 'Dataset/Angry/Angry_197.jpg', 'Dataset/Angry/Angry_196.jpg', 'Dataset/Angry/Angry_195.jpg', 'Dataset/Angry/Angry_194.jpg', 'Dataset/Angry/Angry_193.jpg', 'Dataset/Angry/Angry_192.jpg', 'Dataset/Angry/Angry_191.jpg', 'Dataset/Angry/Angry_190.jpg', 'Dataset/Angry/Angry_19.jpg', 'Dataset/Angry/Angry_189.jpg', 'Dataset/Angry/Angry_188.jpg', 'Dataset/Angry/Angry_187.jpg', 'Dataset/Angry/Angry_186.jpg', 'Dataset/Angry/Angry_185.jpg', 'Dataset/Angry/Angry_184.jpg', 'Dataset/Angry/Angry_183.jpg', 'Dataset/Angry/Angry_182.jpg', 'Dataset/Angry/Angry_181.jpg', 'Dataset/Angry/Angry_180.jpg', 'Dataset/Angry/Angry_18.jpg', 'Dataset/Angry/Angry_179.jpg', 'Dataset/Angry/Angry_178.jpg', 'Dataset/Angry/Angry_177.jpg', 'Dataset/Angry/Angry_176.jpg', 'Dataset/Angry/Angry_175.jpg', 'Dataset/Angry/Angry_174.jpg', 'Dataset/Angry/Angry_173.jpg', 'Dataset/Angry/Angry_172.jpg', 'Dataset/Angry/Angry_171.jpg', 'Dataset/Angry/Angry_170.jpg', 'Dataset/Angry/Angry_17.jpg', 'Dataset/Angry/Angry_169.jpg', 'Dataset/Angry/Angry_168.jpg', 'Dataset/Angry/Angry_167.jpg', 'Dataset/Angry/Angry_166.jpg', 'Dataset/Angry/Angry_165.jpg', 'Dataset/Angry/Angry_164.jpg', 'Dataset/Angry/Angry_163.jpg', 'Dataset/Angry/Angry_162.jpg', 'Dataset/Angry/Angry_161.jpg', 'Dataset/Angry/Angry_160.jpg', 'Dataset/Angry/Angry_16.jpg', 'Dataset/Angry/Angry_159.jpg', 'Dataset/Angry/Angry_158.jpg', 'Dataset/Angry/Angry_157.jpg', 'Dataset/Angry/Angry_156.jpg', 'Dataset/Angry/Angry_155.jpg', 'Dataset/Angry/Angry_154.jpg', 'Dataset/Angry/Angry_153.jpg', 'Dataset/Angry/Angry_152.jpg', 'Dataset/Angry/Angry_151.jpg', 'Dataset/Angry/Angry_150.jpg', 'Dataset/Angry/Angry_15.jpg', 'Dataset/Angry/Angry_149.jpg', 'Dataset/Angry/Angry_148.jpg', 'Dataset/Angry/Angry_147.jpg', 'Dataset/Angry/Angry_146.jpg', 'Dataset/Angry/Angry_145.jpg', 'Dataset/Angry/Angry_144.jpg', 'Dataset/Angry/Angry_143.jpg', 'Dataset/Angry/Angry_142.jpg', 'Dataset/Angry/Angry_141.jpg', 'Dataset/Angry/Angry_140.jpg', 'Dataset/Angry/Angry_14.jpg', 'Dataset/Angry/Angry_139.jpg', 'Dataset/Angry/Angry_138.jpg', 'Dataset/Angry/Angry_137.jpg', 'Dataset/Angry/Angry_136.jpg', 'Dataset/Angry/Angry_135.jpg', 'Dataset/Angry/Angry_134.jpg', 'Dataset/Angry/Angry_133.jpg', 'Dataset/Angry/Angry_132.jpg', 'Dataset/Angry/Angry_131.jpg', 'Dataset/Angry/Angry_130.jpg', 'Dataset/Angry/Angry_13.jpg', 'Dataset/Angry/Angry_129.jpg', 'Dataset/Angry/Angry_128.jpg', 'Dataset/Angry/Angry_127.jpg', 'Dataset/Angry/Angry_126.jpg', 'Dataset/Angry/Angry_125.jpg', 'Dataset/Angry/Angry_124.jpg', 'Dataset/Angry/Angry_123.jpg', 'Dataset/Angry/Angry_122.jpg', 'Dataset/Angry/Angry_121.jpg', 'Dataset/Angry/Angry_120.jpg', 'Dataset/Angry/Angry_12.jpg', 'Dataset/Angry/Angry_119.jpg', 'Dataset/Angry/Angry_118.jpg', 'Dataset/Angry/Angry_117.jpg', 'Dataset/Angry/Angry_116.jpg', 'Dataset/Angry/Angry_115.jpg', 'Dataset/Angry/Angry_114.jpg', 'Dataset/Angry/Angry_113.jpg', 'Dataset/Angry/Angry_112.jpg', 'Dataset/Angry/Angry_111.jpg', 'Dataset/Angry/Angry_110.jpg', 'Dataset/Angry/Angry_11.jpg', 'Dataset/Angry/Angry_109.jpg', 'Dataset/Angry/Angry_108.jpg', 'Dataset/Angry/Angry_107.jpg', 'Dataset/Angry/Angry_106.jpg', 'Dataset/Angry/Angry_105.jpg', 'Dataset/Angry/Angry_104.jpg', 'Dataset/Angry/Angry_103.jpg', 'Dataset/Angry/Angry_102.jpg', 'Dataset/Angry/Angry_101.jpg', 'Dataset/Angry/Angry_100.jpg', 'Dataset/Angry/Angry_10.jpg', 'Dataset/Angry/Angry_1.jpg', 'Dataset/Angry/Angry_0.jpg']\n"
     ]
    }
   ],
   "source": [
    "human_angry = glob.glob(\"Dataset/Angry/*\")\n",
    "print(\"Number of images in Angry emotion = \"+str(len(human_angry)))\n",
    "print(human_angry)"
   ]
  },
  {
   "cell_type": "code",
   "execution_count": 59,
   "metadata": {},
   "outputs": [
    {
     "data": {
      "text/plain": [
       "(350, 350, 350, 350)"
      ]
     },
     "execution_count": 59,
     "metadata": {},
     "output_type": "execute_result"
    }
   ],
   "source": [
    "human_angry_folderName = ['Dataset/'+str(i.split(\"/\")[1])+\"/\" for i in human_angry]\n",
    "human_angry_imageName = [str(i.split(\"/\")[2]) for i in human_angry]\n",
    "human_angry_emotion = [[\"Angry\"]*len(human_angry)][0]\n",
    "human_angry_label = [1]*len(human_angry)\n",
    "\n",
    "len(human_angry_folderName), len(human_angry_imageName), len(human_angry_emotion), len(human_angry_label)\n"
   ]
  },
  {
   "cell_type": "code",
   "execution_count": 60,
   "metadata": {},
   "outputs": [
    {
     "data": {
      "text/html": [
       "<div>\n",
       "<style scoped>\n",
       "    .dataframe tbody tr th:only-of-type {\n",
       "        vertical-align: middle;\n",
       "    }\n",
       "\n",
       "    .dataframe tbody tr th {\n",
       "        vertical-align: top;\n",
       "    }\n",
       "\n",
       "    .dataframe thead th {\n",
       "        text-align: right;\n",
       "    }\n",
       "</style>\n",
       "<table border=\"1\" class=\"dataframe\">\n",
       "  <thead>\n",
       "    <tr style=\"text-align: right;\">\n",
       "      <th></th>\n",
       "      <th>folderName</th>\n",
       "      <th>imageName</th>\n",
       "      <th>Emotion</th>\n",
       "      <th>Labels</th>\n",
       "    </tr>\n",
       "  </thead>\n",
       "  <tbody>\n",
       "    <tr>\n",
       "      <th>0</th>\n",
       "      <td>Dataset/Angry/</td>\n",
       "      <td>Angry_99.jpg</td>\n",
       "      <td>Angry</td>\n",
       "      <td>1</td>\n",
       "    </tr>\n",
       "    <tr>\n",
       "      <th>1</th>\n",
       "      <td>Dataset/Angry/</td>\n",
       "      <td>Angry_98.jpg</td>\n",
       "      <td>Angry</td>\n",
       "      <td>1</td>\n",
       "    </tr>\n",
       "    <tr>\n",
       "      <th>2</th>\n",
       "      <td>Dataset/Angry/</td>\n",
       "      <td>Angry_97.jpg</td>\n",
       "      <td>Angry</td>\n",
       "      <td>1</td>\n",
       "    </tr>\n",
       "    <tr>\n",
       "      <th>3</th>\n",
       "      <td>Dataset/Angry/</td>\n",
       "      <td>Angry_96.jpg</td>\n",
       "      <td>Angry</td>\n",
       "      <td>1</td>\n",
       "    </tr>\n",
       "    <tr>\n",
       "      <th>4</th>\n",
       "      <td>Dataset/Angry/</td>\n",
       "      <td>Angry_95.jpg</td>\n",
       "      <td>Angry</td>\n",
       "      <td>1</td>\n",
       "    </tr>\n",
       "  </tbody>\n",
       "</table>\n",
       "</div>"
      ],
      "text/plain": [
       "       folderName     imageName Emotion  Labels\n",
       "0  Dataset/Angry/  Angry_99.jpg   Angry       1\n",
       "1  Dataset/Angry/  Angry_98.jpg   Angry       1\n",
       "2  Dataset/Angry/  Angry_97.jpg   Angry       1\n",
       "3  Dataset/Angry/  Angry_96.jpg   Angry       1\n",
       "4  Dataset/Angry/  Angry_95.jpg   Angry       1"
      ]
     },
     "execution_count": 60,
     "metadata": {},
     "output_type": "execute_result"
    }
   ],
   "source": [
    "\n",
    "df_angry = pd.DataFrame()\n",
    "df_angry[\"folderName\"] = human_angry_folderName\n",
    "df_angry[\"imageName\"] = human_angry_imageName\n",
    "df_angry[\"Emotion\"] = human_angry_emotion\n",
    "df_angry[\"Labels\"] = human_angry_label\n",
    "df_angry.head()\n",
    "\n"
   ]
  },
  {
   "cell_type": "code",
   "execution_count": 61,
   "metadata": {},
   "outputs": [
    {
     "name": "stdout",
     "output_type": "stream",
     "text": [
      "Number of images in Disgust emotion = 347\n"
     ]
    }
   ],
   "source": [
    "human_disgust = glob.glob(\"Dataset/Disgusted/*\")\n",
    "print(\"Number of images in Disgust emotion = \"+str(len(human_disgust)))"
   ]
  },
  {
   "cell_type": "code",
   "execution_count": 63,
   "metadata": {},
   "outputs": [
    {
     "data": {
      "text/plain": [
       "(347, 347, 347, 347)"
      ]
     },
     "execution_count": 63,
     "metadata": {},
     "output_type": "execute_result"
    }
   ],
   "source": [
    "human_disgust_folderName = ['Dataset/'+str(i.split(\"/\")[1])+\"/\" for i in human_disgust]\n",
    "human_disgust_imageName = [str(i.split(\"/\")[2]) for i in human_disgust]\n",
    "human_disgust_emotion = [[\"Disgusted\"]*len(human_disgust)][0]\n",
    "human_disgust_label = [2]*len(human_disgust)\n",
    "\n",
    "\n",
    "len(human_disgust_folderName), len(human_disgust_imageName), len(human_disgust_emotion), len(human_disgust_label)"
   ]
  },
  {
   "cell_type": "code",
   "execution_count": 64,
   "metadata": {},
   "outputs": [
    {
     "data": {
      "text/html": [
       "<div>\n",
       "<style scoped>\n",
       "    .dataframe tbody tr th:only-of-type {\n",
       "        vertical-align: middle;\n",
       "    }\n",
       "\n",
       "    .dataframe tbody tr th {\n",
       "        vertical-align: top;\n",
       "    }\n",
       "\n",
       "    .dataframe thead th {\n",
       "        text-align: right;\n",
       "    }\n",
       "</style>\n",
       "<table border=\"1\" class=\"dataframe\">\n",
       "  <thead>\n",
       "    <tr style=\"text-align: right;\">\n",
       "      <th></th>\n",
       "      <th>folderName</th>\n",
       "      <th>imageName</th>\n",
       "      <th>Emotion</th>\n",
       "      <th>Labels</th>\n",
       "    </tr>\n",
       "  </thead>\n",
       "  <tbody>\n",
       "    <tr>\n",
       "      <th>0</th>\n",
       "      <td>Dataset/Disgusted/</td>\n",
       "      <td>Disgusted_99.jpg</td>\n",
       "      <td>Disgusted</td>\n",
       "      <td>2</td>\n",
       "    </tr>\n",
       "    <tr>\n",
       "      <th>1</th>\n",
       "      <td>Dataset/Disgusted/</td>\n",
       "      <td>Disgusted_98.jpg</td>\n",
       "      <td>Disgusted</td>\n",
       "      <td>2</td>\n",
       "    </tr>\n",
       "    <tr>\n",
       "      <th>2</th>\n",
       "      <td>Dataset/Disgusted/</td>\n",
       "      <td>Disgusted_96.jpg</td>\n",
       "      <td>Disgusted</td>\n",
       "      <td>2</td>\n",
       "    </tr>\n",
       "    <tr>\n",
       "      <th>3</th>\n",
       "      <td>Dataset/Disgusted/</td>\n",
       "      <td>Disgusted_95.jpg</td>\n",
       "      <td>Disgusted</td>\n",
       "      <td>2</td>\n",
       "    </tr>\n",
       "    <tr>\n",
       "      <th>4</th>\n",
       "      <td>Dataset/Disgusted/</td>\n",
       "      <td>Disgusted_94.jpg</td>\n",
       "      <td>Disgusted</td>\n",
       "      <td>2</td>\n",
       "    </tr>\n",
       "  </tbody>\n",
       "</table>\n",
       "</div>"
      ],
      "text/plain": [
       "           folderName         imageName    Emotion  Labels\n",
       "0  Dataset/Disgusted/  Disgusted_99.jpg  Disgusted       2\n",
       "1  Dataset/Disgusted/  Disgusted_98.jpg  Disgusted       2\n",
       "2  Dataset/Disgusted/  Disgusted_96.jpg  Disgusted       2\n",
       "3  Dataset/Disgusted/  Disgusted_95.jpg  Disgusted       2\n",
       "4  Dataset/Disgusted/  Disgusted_94.jpg  Disgusted       2"
      ]
     },
     "execution_count": 64,
     "metadata": {},
     "output_type": "execute_result"
    }
   ],
   "source": [
    "df_disgust = pd.DataFrame()\n",
    "df_disgust[\"folderName\"] = human_disgust_folderName\n",
    "df_disgust[\"imageName\"] = human_disgust_imageName\n",
    "df_disgust[\"Emotion\"] = human_disgust_emotion\n",
    "df_disgust[\"Labels\"] = human_disgust_label\n",
    "df_disgust.head()"
   ]
  },
  {
   "cell_type": "code",
   "execution_count": 21,
   "metadata": {},
   "outputs": [
    {
     "name": "stdout",
     "output_type": "stream",
     "text": [
      "Number of images in Fear emotion = 349\n"
     ]
    }
   ],
   "source": [
    "human_fear = glob.glob(\"Dataset/Afraid/*\")\n",
    "print(\"Number of images in Fear emotion = \"+str(len(human_fear)))"
   ]
  },
  {
   "cell_type": "code",
   "execution_count": 65,
   "metadata": {},
   "outputs": [
    {
     "data": {
      "text/plain": [
       "(349, 349, 349, 349)"
      ]
     },
     "execution_count": 65,
     "metadata": {},
     "output_type": "execute_result"
    }
   ],
   "source": [
    "human_fear_folderName = ['Dataset/'+str(i.split(\"/\")[1])+\"/\" for i in human_fear]\n",
    "human_fear_imageName = [str(i.split(\"/\")[2]) for i in human_fear]\n",
    "human_fear_emotion = [[\"Afraid\"]*len(human_fear)][0]\n",
    "human_fear_label = [3]*len(human_fear)\n",
    "\n",
    "len(human_fear_folderName), len(human_fear_imageName), len(human_fear_emotion), len(human_fear_label)"
   ]
  },
  {
   "cell_type": "code",
   "execution_count": 66,
   "metadata": {},
   "outputs": [
    {
     "data": {
      "text/html": [
       "<div>\n",
       "<style scoped>\n",
       "    .dataframe tbody tr th:only-of-type {\n",
       "        vertical-align: middle;\n",
       "    }\n",
       "\n",
       "    .dataframe tbody tr th {\n",
       "        vertical-align: top;\n",
       "    }\n",
       "\n",
       "    .dataframe thead th {\n",
       "        text-align: right;\n",
       "    }\n",
       "</style>\n",
       "<table border=\"1\" class=\"dataframe\">\n",
       "  <thead>\n",
       "    <tr style=\"text-align: right;\">\n",
       "      <th></th>\n",
       "      <th>folderName</th>\n",
       "      <th>imageName</th>\n",
       "      <th>Emotion</th>\n",
       "      <th>Labels</th>\n",
       "    </tr>\n",
       "  </thead>\n",
       "  <tbody>\n",
       "    <tr>\n",
       "      <th>0</th>\n",
       "      <td>Dataset/Afraid/</td>\n",
       "      <td>Afraid_99.jpg</td>\n",
       "      <td>Afraid</td>\n",
       "      <td>3</td>\n",
       "    </tr>\n",
       "    <tr>\n",
       "      <th>1</th>\n",
       "      <td>Dataset/Afraid/</td>\n",
       "      <td>Afraid_98.jpg</td>\n",
       "      <td>Afraid</td>\n",
       "      <td>3</td>\n",
       "    </tr>\n",
       "    <tr>\n",
       "      <th>2</th>\n",
       "      <td>Dataset/Afraid/</td>\n",
       "      <td>Afraid_97.jpg</td>\n",
       "      <td>Afraid</td>\n",
       "      <td>3</td>\n",
       "    </tr>\n",
       "    <tr>\n",
       "      <th>3</th>\n",
       "      <td>Dataset/Afraid/</td>\n",
       "      <td>Afraid_96.jpg</td>\n",
       "      <td>Afraid</td>\n",
       "      <td>3</td>\n",
       "    </tr>\n",
       "    <tr>\n",
       "      <th>4</th>\n",
       "      <td>Dataset/Afraid/</td>\n",
       "      <td>Afraid_95.jpg</td>\n",
       "      <td>Afraid</td>\n",
       "      <td>3</td>\n",
       "    </tr>\n",
       "  </tbody>\n",
       "</table>\n",
       "</div>"
      ],
      "text/plain": [
       "        folderName      imageName Emotion  Labels\n",
       "0  Dataset/Afraid/  Afraid_99.jpg  Afraid       3\n",
       "1  Dataset/Afraid/  Afraid_98.jpg  Afraid       3\n",
       "2  Dataset/Afraid/  Afraid_97.jpg  Afraid       3\n",
       "3  Dataset/Afraid/  Afraid_96.jpg  Afraid       3\n",
       "4  Dataset/Afraid/  Afraid_95.jpg  Afraid       3"
      ]
     },
     "execution_count": 66,
     "metadata": {},
     "output_type": "execute_result"
    }
   ],
   "source": [
    "df_fear = pd.DataFrame()\n",
    "df_fear[\"folderName\"] = human_fear_folderName\n",
    "df_fear[\"imageName\"] = human_fear_imageName\n",
    "df_fear[\"Emotion\"] = human_fear_emotion\n",
    "df_fear[\"Labels\"] = human_fear_label\n",
    "df_fear.head()"
   ]
  },
  {
   "cell_type": "code",
   "execution_count": 67,
   "metadata": {},
   "outputs": [
    {
     "name": "stdout",
     "output_type": "stream",
     "text": [
      "Number of images in Happy emotion = 349\n"
     ]
    }
   ],
   "source": [
    "human_happy = glob.glob(\"Dataset/Happy/*\")\n",
    "print(\"Number of images in Happy emotion = \"+str(len(human_happy)))"
   ]
  },
  {
   "cell_type": "code",
   "execution_count": 68,
   "metadata": {},
   "outputs": [
    {
     "data": {
      "text/plain": [
       "(349, 349, 349, 349)"
      ]
     },
     "execution_count": 68,
     "metadata": {},
     "output_type": "execute_result"
    }
   ],
   "source": [
    "human_happy_folderName = ['Dataset/'+str(i.split(\"/\")[1])+\"/\" for i in human_happy]\n",
    "human_happy_imageName = [str(i.split(\"/\")[2]) for i in human_happy]\n",
    "human_happy_emotion = [[\"Happy\"]*len(human_happy)][0]\n",
    "human_happy_label = [4]*len(human_happy)\n",
    "\n",
    "len(human_happy_folderName), len(human_happy_imageName), len(human_happy_emotion), len(human_happy_label)"
   ]
  },
  {
   "cell_type": "code",
   "execution_count": 69,
   "metadata": {},
   "outputs": [
    {
     "data": {
      "text/html": [
       "<div>\n",
       "<style scoped>\n",
       "    .dataframe tbody tr th:only-of-type {\n",
       "        vertical-align: middle;\n",
       "    }\n",
       "\n",
       "    .dataframe tbody tr th {\n",
       "        vertical-align: top;\n",
       "    }\n",
       "\n",
       "    .dataframe thead th {\n",
       "        text-align: right;\n",
       "    }\n",
       "</style>\n",
       "<table border=\"1\" class=\"dataframe\">\n",
       "  <thead>\n",
       "    <tr style=\"text-align: right;\">\n",
       "      <th></th>\n",
       "      <th>folderName</th>\n",
       "      <th>imageName</th>\n",
       "      <th>Emotion</th>\n",
       "      <th>Labels</th>\n",
       "    </tr>\n",
       "  </thead>\n",
       "  <tbody>\n",
       "    <tr>\n",
       "      <th>0</th>\n",
       "      <td>Dataset/Happy/</td>\n",
       "      <td>Happy_99.jpg</td>\n",
       "      <td>Happy</td>\n",
       "      <td>4</td>\n",
       "    </tr>\n",
       "    <tr>\n",
       "      <th>1</th>\n",
       "      <td>Dataset/Happy/</td>\n",
       "      <td>Happy_98.jpg</td>\n",
       "      <td>Happy</td>\n",
       "      <td>4</td>\n",
       "    </tr>\n",
       "    <tr>\n",
       "      <th>2</th>\n",
       "      <td>Dataset/Happy/</td>\n",
       "      <td>Happy_97.jpg</td>\n",
       "      <td>Happy</td>\n",
       "      <td>4</td>\n",
       "    </tr>\n",
       "    <tr>\n",
       "      <th>3</th>\n",
       "      <td>Dataset/Happy/</td>\n",
       "      <td>Happy_96.jpg</td>\n",
       "      <td>Happy</td>\n",
       "      <td>4</td>\n",
       "    </tr>\n",
       "    <tr>\n",
       "      <th>4</th>\n",
       "      <td>Dataset/Happy/</td>\n",
       "      <td>Happy_95.jpg</td>\n",
       "      <td>Happy</td>\n",
       "      <td>4</td>\n",
       "    </tr>\n",
       "  </tbody>\n",
       "</table>\n",
       "</div>"
      ],
      "text/plain": [
       "       folderName     imageName Emotion  Labels\n",
       "0  Dataset/Happy/  Happy_99.jpg   Happy       4\n",
       "1  Dataset/Happy/  Happy_98.jpg   Happy       4\n",
       "2  Dataset/Happy/  Happy_97.jpg   Happy       4\n",
       "3  Dataset/Happy/  Happy_96.jpg   Happy       4\n",
       "4  Dataset/Happy/  Happy_95.jpg   Happy       4"
      ]
     },
     "execution_count": 69,
     "metadata": {},
     "output_type": "execute_result"
    }
   ],
   "source": [
    "df_happy = pd.DataFrame()\n",
    "df_happy[\"folderName\"] = human_happy_folderName\n",
    "df_happy[\"imageName\"] = human_happy_imageName\n",
    "df_happy[\"Emotion\"] = human_happy_emotion\n",
    "df_happy[\"Labels\"] = human_happy_label\n",
    "df_happy.head()"
   ]
  },
  {
   "cell_type": "code",
   "execution_count": 70,
   "metadata": {},
   "outputs": [
    {
     "name": "stdout",
     "output_type": "stream",
     "text": [
      "Number of images in Neutral emotion = 349\n"
     ]
    }
   ],
   "source": [
    "\n",
    "\n",
    "human_neutral = glob.glob(\"Dataset/Neutral/*\")\n",
    "print(\"Number of images in Neutral emotion = \"+str(len(human_neutral)))\n",
    "\n"
   ]
  },
  {
   "cell_type": "code",
   "execution_count": 71,
   "metadata": {},
   "outputs": [
    {
     "data": {
      "text/plain": [
       "(349, 349, 349, 349)"
      ]
     },
     "execution_count": 71,
     "metadata": {},
     "output_type": "execute_result"
    }
   ],
   "source": [
    "human_neutral_folderName = ['Dataset/'+str(i.split(\"/\")[1])+\"/\" for i in human_neutral]\n",
    "human_neutral_imageName = [str(i.split(\"/\")[2]) for i in human_neutral]\n",
    "human_neutral_emotion = [[\"Neutral\"]*len(human_neutral)][0]\n",
    "human_neutral_label = [5]*len(human_neutral)\n",
    "\n",
    "len(human_neutral_folderName), len(human_neutral_imageName), len(human_neutral_emotion), len(human_neutral_label)"
   ]
  },
  {
   "cell_type": "code",
   "execution_count": 72,
   "metadata": {},
   "outputs": [
    {
     "data": {
      "text/html": [
       "<div>\n",
       "<style scoped>\n",
       "    .dataframe tbody tr th:only-of-type {\n",
       "        vertical-align: middle;\n",
       "    }\n",
       "\n",
       "    .dataframe tbody tr th {\n",
       "        vertical-align: top;\n",
       "    }\n",
       "\n",
       "    .dataframe thead th {\n",
       "        text-align: right;\n",
       "    }\n",
       "</style>\n",
       "<table border=\"1\" class=\"dataframe\">\n",
       "  <thead>\n",
       "    <tr style=\"text-align: right;\">\n",
       "      <th></th>\n",
       "      <th>folderName</th>\n",
       "      <th>imageName</th>\n",
       "      <th>Emotion</th>\n",
       "      <th>Labels</th>\n",
       "    </tr>\n",
       "  </thead>\n",
       "  <tbody>\n",
       "    <tr>\n",
       "      <th>0</th>\n",
       "      <td>Dataset/Neutral/</td>\n",
       "      <td>Neutral_99.jpg</td>\n",
       "      <td>Neutral</td>\n",
       "      <td>5</td>\n",
       "    </tr>\n",
       "    <tr>\n",
       "      <th>1</th>\n",
       "      <td>Dataset/Neutral/</td>\n",
       "      <td>Neutral_98.jpg</td>\n",
       "      <td>Neutral</td>\n",
       "      <td>5</td>\n",
       "    </tr>\n",
       "    <tr>\n",
       "      <th>2</th>\n",
       "      <td>Dataset/Neutral/</td>\n",
       "      <td>Neutral_97.jpg</td>\n",
       "      <td>Neutral</td>\n",
       "      <td>5</td>\n",
       "    </tr>\n",
       "    <tr>\n",
       "      <th>3</th>\n",
       "      <td>Dataset/Neutral/</td>\n",
       "      <td>Neutral_96.jpg</td>\n",
       "      <td>Neutral</td>\n",
       "      <td>5</td>\n",
       "    </tr>\n",
       "    <tr>\n",
       "      <th>4</th>\n",
       "      <td>Dataset/Neutral/</td>\n",
       "      <td>Neutral_95.jpg</td>\n",
       "      <td>Neutral</td>\n",
       "      <td>5</td>\n",
       "    </tr>\n",
       "  </tbody>\n",
       "</table>\n",
       "</div>"
      ],
      "text/plain": [
       "         folderName       imageName  Emotion  Labels\n",
       "0  Dataset/Neutral/  Neutral_99.jpg  Neutral       5\n",
       "1  Dataset/Neutral/  Neutral_98.jpg  Neutral       5\n",
       "2  Dataset/Neutral/  Neutral_97.jpg  Neutral       5\n",
       "3  Dataset/Neutral/  Neutral_96.jpg  Neutral       5\n",
       "4  Dataset/Neutral/  Neutral_95.jpg  Neutral       5"
      ]
     },
     "execution_count": 72,
     "metadata": {},
     "output_type": "execute_result"
    }
   ],
   "source": [
    "\n",
    "\n",
    "df_neutral = pd.DataFrame()\n",
    "df_neutral[\"folderName\"] = human_neutral_folderName\n",
    "df_neutral[\"imageName\"] = human_neutral_imageName\n",
    "df_neutral[\"Emotion\"] = human_neutral_emotion\n",
    "df_neutral[\"Labels\"] = human_neutral_label\n",
    "df_neutral.head()"
   ]
  },
  {
   "cell_type": "code",
   "execution_count": 73,
   "metadata": {},
   "outputs": [
    {
     "name": "stdout",
     "output_type": "stream",
     "text": [
      "Number of images in Sad emotion = 349\n"
     ]
    }
   ],
   "source": [
    "human_sad = glob.glob(\"Dataset/Happy/*\")\n",
    "print(\"Number of images in Sad emotion = \"+str(len(human_sad)))"
   ]
  },
  {
   "cell_type": "code",
   "execution_count": 74,
   "metadata": {},
   "outputs": [
    {
     "data": {
      "text/plain": [
       "(349, 349, 349, 349)"
      ]
     },
     "execution_count": 74,
     "metadata": {},
     "output_type": "execute_result"
    }
   ],
   "source": [
    "human_sad_folderName = ['Dataset/'+str(i.split(\"/\")[1])+\"/\" for i in human_sad]\n",
    "human_sad_imageName = [str(i.split(\"/\")[2]) for i in human_sad]\n",
    "human_sad_emotion = [[\"Sad\"]*len(human_sad)][0]\n",
    "human_sad_label = [6]*len(human_sad)\n",
    "\n",
    "len(human_sad_folderName), len(human_sad_imageName), len(human_sad_emotion), len(human_sad_label)"
   ]
  },
  {
   "cell_type": "code",
   "execution_count": 75,
   "metadata": {},
   "outputs": [
    {
     "data": {
      "text/html": [
       "<div>\n",
       "<style scoped>\n",
       "    .dataframe tbody tr th:only-of-type {\n",
       "        vertical-align: middle;\n",
       "    }\n",
       "\n",
       "    .dataframe tbody tr th {\n",
       "        vertical-align: top;\n",
       "    }\n",
       "\n",
       "    .dataframe thead th {\n",
       "        text-align: right;\n",
       "    }\n",
       "</style>\n",
       "<table border=\"1\" class=\"dataframe\">\n",
       "  <thead>\n",
       "    <tr style=\"text-align: right;\">\n",
       "      <th></th>\n",
       "      <th>folderName</th>\n",
       "      <th>imageName</th>\n",
       "      <th>Emotion</th>\n",
       "      <th>Labels</th>\n",
       "    </tr>\n",
       "  </thead>\n",
       "  <tbody>\n",
       "    <tr>\n",
       "      <th>0</th>\n",
       "      <td>Dataset/Happy/</td>\n",
       "      <td>Happy_99.jpg</td>\n",
       "      <td>Sad</td>\n",
       "      <td>6</td>\n",
       "    </tr>\n",
       "    <tr>\n",
       "      <th>1</th>\n",
       "      <td>Dataset/Happy/</td>\n",
       "      <td>Happy_98.jpg</td>\n",
       "      <td>Sad</td>\n",
       "      <td>6</td>\n",
       "    </tr>\n",
       "    <tr>\n",
       "      <th>2</th>\n",
       "      <td>Dataset/Happy/</td>\n",
       "      <td>Happy_97.jpg</td>\n",
       "      <td>Sad</td>\n",
       "      <td>6</td>\n",
       "    </tr>\n",
       "    <tr>\n",
       "      <th>3</th>\n",
       "      <td>Dataset/Happy/</td>\n",
       "      <td>Happy_96.jpg</td>\n",
       "      <td>Sad</td>\n",
       "      <td>6</td>\n",
       "    </tr>\n",
       "    <tr>\n",
       "      <th>4</th>\n",
       "      <td>Dataset/Happy/</td>\n",
       "      <td>Happy_95.jpg</td>\n",
       "      <td>Sad</td>\n",
       "      <td>6</td>\n",
       "    </tr>\n",
       "  </tbody>\n",
       "</table>\n",
       "</div>"
      ],
      "text/plain": [
       "       folderName     imageName Emotion  Labels\n",
       "0  Dataset/Happy/  Happy_99.jpg     Sad       6\n",
       "1  Dataset/Happy/  Happy_98.jpg     Sad       6\n",
       "2  Dataset/Happy/  Happy_97.jpg     Sad       6\n",
       "3  Dataset/Happy/  Happy_96.jpg     Sad       6\n",
       "4  Dataset/Happy/  Happy_95.jpg     Sad       6"
      ]
     },
     "execution_count": 75,
     "metadata": {},
     "output_type": "execute_result"
    }
   ],
   "source": [
    "df_sad = pd.DataFrame()\n",
    "df_sad[\"folderName\"] = human_sad_folderName\n",
    "df_sad[\"imageName\"] = human_sad_imageName\n",
    "df_sad[\"Emotion\"] = human_sad_emotion\n",
    "df_sad[\"Labels\"] = human_sad_label\n",
    "df_sad.head()"
   ]
  },
  {
   "cell_type": "code",
   "execution_count": 76,
   "metadata": {},
   "outputs": [
    {
     "name": "stdout",
     "output_type": "stream",
     "text": [
      "Number of images in Surprise emotion = 348\n"
     ]
    }
   ],
   "source": [
    "human_surprise = glob.glob(\"Dataset/Suprised/*\")\n",
    "print(\"Number of images in Surprise emotion = \"+str(len(human_surprise)))"
   ]
  },
  {
   "cell_type": "code",
   "execution_count": 77,
   "metadata": {},
   "outputs": [
    {
     "data": {
      "text/plain": [
       "(348, 348, 348, 348)"
      ]
     },
     "execution_count": 77,
     "metadata": {},
     "output_type": "execute_result"
    }
   ],
   "source": [
    "human_surprise_folderName = ['Dataset/'+str(i.split(\"/\")[1])+\"/\" for i in human_surprise]\n",
    "human_surprise_imageName = [str(i.split(\"/\")[2]) for i in human_surprise]\n",
    "human_surprise_emotion = [[\"Suprised\"]*len(human_surprise)][0]\n",
    "human_surprise_label = [7]*len(human_surprise)\n",
    "\n",
    "len(human_surprise_folderName), len(human_surprise_imageName), len(human_surprise_emotion), len(human_surprise_label)"
   ]
  },
  {
   "cell_type": "code",
   "execution_count": 78,
   "metadata": {},
   "outputs": [
    {
     "data": {
      "text/html": [
       "<div>\n",
       "<style scoped>\n",
       "    .dataframe tbody tr th:only-of-type {\n",
       "        vertical-align: middle;\n",
       "    }\n",
       "\n",
       "    .dataframe tbody tr th {\n",
       "        vertical-align: top;\n",
       "    }\n",
       "\n",
       "    .dataframe thead th {\n",
       "        text-align: right;\n",
       "    }\n",
       "</style>\n",
       "<table border=\"1\" class=\"dataframe\">\n",
       "  <thead>\n",
       "    <tr style=\"text-align: right;\">\n",
       "      <th></th>\n",
       "      <th>folderName</th>\n",
       "      <th>imageName</th>\n",
       "      <th>Emotion</th>\n",
       "      <th>Labels</th>\n",
       "    </tr>\n",
       "  </thead>\n",
       "  <tbody>\n",
       "    <tr>\n",
       "      <th>0</th>\n",
       "      <td>Dataset/Suprised/</td>\n",
       "      <td>Suprised_99.jpg</td>\n",
       "      <td>Suprised</td>\n",
       "      <td>7</td>\n",
       "    </tr>\n",
       "    <tr>\n",
       "      <th>1</th>\n",
       "      <td>Dataset/Suprised/</td>\n",
       "      <td>Suprised_98.jpg</td>\n",
       "      <td>Suprised</td>\n",
       "      <td>7</td>\n",
       "    </tr>\n",
       "    <tr>\n",
       "      <th>2</th>\n",
       "      <td>Dataset/Suprised/</td>\n",
       "      <td>Suprised_97.jpg</td>\n",
       "      <td>Suprised</td>\n",
       "      <td>7</td>\n",
       "    </tr>\n",
       "    <tr>\n",
       "      <th>3</th>\n",
       "      <td>Dataset/Suprised/</td>\n",
       "      <td>Suprised_96.jpg</td>\n",
       "      <td>Suprised</td>\n",
       "      <td>7</td>\n",
       "    </tr>\n",
       "    <tr>\n",
       "      <th>4</th>\n",
       "      <td>Dataset/Suprised/</td>\n",
       "      <td>Suprised_95.jpg</td>\n",
       "      <td>Suprised</td>\n",
       "      <td>7</td>\n",
       "    </tr>\n",
       "  </tbody>\n",
       "</table>\n",
       "</div>"
      ],
      "text/plain": [
       "          folderName        imageName   Emotion  Labels\n",
       "0  Dataset/Suprised/  Suprised_99.jpg  Suprised       7\n",
       "1  Dataset/Suprised/  Suprised_98.jpg  Suprised       7\n",
       "2  Dataset/Suprised/  Suprised_97.jpg  Suprised       7\n",
       "3  Dataset/Suprised/  Suprised_96.jpg  Suprised       7\n",
       "4  Dataset/Suprised/  Suprised_95.jpg  Suprised       7"
      ]
     },
     "execution_count": 78,
     "metadata": {},
     "output_type": "execute_result"
    }
   ],
   "source": [
    "df_surprise = pd.DataFrame()\n",
    "df_surprise[\"folderName\"] = human_surprise_folderName\n",
    "df_surprise[\"imageName\"] = human_surprise_imageName\n",
    "df_surprise[\"Emotion\"] = human_surprise_emotion\n",
    "df_surprise[\"Labels\"] = human_surprise_label\n",
    "df_surprise.head()"
   ]
  },
  {
   "cell_type": "code",
   "execution_count": 79,
   "metadata": {},
   "outputs": [
    {
     "name": "stdout",
     "output_type": "stream",
     "text": [
      "Total number of images in all the emotions = 2441\n"
     ]
    }
   ],
   "source": [
    "length = df_angry.shape[0] + df_disgust.shape[0] + df_fear.shape[0] + df_happy.shape[0] + df_neutral.shape[0] + df_sad.shape[0] + df_surprise.shape[0]\n",
    "print(\"Total number of images in all the emotions = \"+str(length))"
   ]
  },
  {
   "cell_type": "code",
   "execution_count": 80,
   "metadata": {},
   "outputs": [
    {
     "data": {
      "text/plain": [
       "(2441, 4)"
      ]
     },
     "execution_count": 80,
     "metadata": {},
     "output_type": "execute_result"
    }
   ],
   "source": [
    "frames = [df_angry, df_disgust, df_fear, df_happy, df_neutral, df_sad, df_surprise]\n",
    "Final_human = pd.concat(frames)\n",
    "Final_human.shape"
   ]
  },
  {
   "cell_type": "code",
   "execution_count": 81,
   "metadata": {},
   "outputs": [
    {
     "data": {
      "text/html": [
       "<div>\n",
       "<style scoped>\n",
       "    .dataframe tbody tr th:only-of-type {\n",
       "        vertical-align: middle;\n",
       "    }\n",
       "\n",
       "    .dataframe tbody tr th {\n",
       "        vertical-align: top;\n",
       "    }\n",
       "\n",
       "    .dataframe thead th {\n",
       "        text-align: right;\n",
       "    }\n",
       "</style>\n",
       "<table border=\"1\" class=\"dataframe\">\n",
       "  <thead>\n",
       "    <tr style=\"text-align: right;\">\n",
       "      <th></th>\n",
       "      <th>folderName</th>\n",
       "      <th>imageName</th>\n",
       "      <th>Emotion</th>\n",
       "      <th>Labels</th>\n",
       "    </tr>\n",
       "  </thead>\n",
       "  <tbody>\n",
       "    <tr>\n",
       "      <th>0</th>\n",
       "      <td>Dataset/Angry/</td>\n",
       "      <td>Angry_137.jpg</td>\n",
       "      <td>Angry</td>\n",
       "      <td>1</td>\n",
       "    </tr>\n",
       "    <tr>\n",
       "      <th>1</th>\n",
       "      <td>Dataset/Happy/</td>\n",
       "      <td>Happy_152.jpg</td>\n",
       "      <td>Sad</td>\n",
       "      <td>6</td>\n",
       "    </tr>\n",
       "    <tr>\n",
       "      <th>2</th>\n",
       "      <td>Dataset/Happy/</td>\n",
       "      <td>Happy_215.jpg</td>\n",
       "      <td>Happy</td>\n",
       "      <td>4</td>\n",
       "    </tr>\n",
       "    <tr>\n",
       "      <th>3</th>\n",
       "      <td>Dataset/Happy/</td>\n",
       "      <td>Happy_30.jpg</td>\n",
       "      <td>Sad</td>\n",
       "      <td>6</td>\n",
       "    </tr>\n",
       "    <tr>\n",
       "      <th>4</th>\n",
       "      <td>Dataset/Neutral/</td>\n",
       "      <td>Neutral_45.jpg</td>\n",
       "      <td>Neutral</td>\n",
       "      <td>5</td>\n",
       "    </tr>\n",
       "  </tbody>\n",
       "</table>\n",
       "</div>"
      ],
      "text/plain": [
       "         folderName       imageName  Emotion  Labels\n",
       "0    Dataset/Angry/   Angry_137.jpg    Angry       1\n",
       "1    Dataset/Happy/   Happy_152.jpg      Sad       6\n",
       "2    Dataset/Happy/   Happy_215.jpg    Happy       4\n",
       "3    Dataset/Happy/    Happy_30.jpg      Sad       6\n",
       "4  Dataset/Neutral/  Neutral_45.jpg  Neutral       5"
      ]
     },
     "execution_count": 81,
     "metadata": {},
     "output_type": "execute_result"
    }
   ],
   "source": [
    "\n",
    "\n",
    "Final_human.reset_index(inplace = True, drop = True)\n",
    "Final_human = Final_human.sample(frac = 1.0)   #shuffling the dataframe\n",
    "Final_human.reset_index(inplace = True, drop = True)\n",
    "Final_human.head()"
   ]
  },
  {
   "cell_type": "code",
   "execution_count": 82,
   "metadata": {},
   "outputs": [
    {
     "data": {
      "text/plain": [
       "((1631, 4), (327, 4), (483, 4))"
      ]
     },
     "execution_count": 82,
     "metadata": {},
     "output_type": "execute_result"
    }
   ],
   "source": [
    "\n",
    "\n",
    "df_human_train_data, df_human_test = train_test_split(Final_human, stratify=Final_human[\"Labels\"], test_size = 0.197860)\n",
    "df_human_train, df_human_cv = train_test_split(df_human_train_data, stratify=df_human_train_data[\"Labels\"], test_size = 0.166666)\n",
    "df_human_train.shape, df_human_cv.shape, df_human_test.shape\n",
    "\n"
   ]
  },
  {
   "cell_type": "code",
   "execution_count": 83,
   "metadata": {},
   "outputs": [],
   "source": [
    "df_human_train.reset_index(inplace = True, drop = True)\n",
    "df_human_train.to_pickle(\"Dataset/df_human_train.pkl\")\n",
    "\n",
    "df_human_cv.reset_index(inplace = True, drop = True)\n",
    "df_human_cv.to_pickle(\"Dataset/df_human_cv.pkl\")\n",
    "\n",
    "df_human_test.reset_index(inplace = True, drop = True)\n",
    "df_human_test.to_pickle(\"Dataset/df_human_test.pkl\")"
   ]
  },
  {
   "cell_type": "code",
   "execution_count": 84,
   "metadata": {},
   "outputs": [
    {
     "data": {
      "text/html": [
       "<div>\n",
       "<style scoped>\n",
       "    .dataframe tbody tr th:only-of-type {\n",
       "        vertical-align: middle;\n",
       "    }\n",
       "\n",
       "    .dataframe tbody tr th {\n",
       "        vertical-align: top;\n",
       "    }\n",
       "\n",
       "    .dataframe thead th {\n",
       "        text-align: right;\n",
       "    }\n",
       "</style>\n",
       "<table border=\"1\" class=\"dataframe\">\n",
       "  <thead>\n",
       "    <tr style=\"text-align: right;\">\n",
       "      <th></th>\n",
       "      <th>folderName</th>\n",
       "      <th>imageName</th>\n",
       "      <th>Emotion</th>\n",
       "      <th>Labels</th>\n",
       "    </tr>\n",
       "  </thead>\n",
       "  <tbody>\n",
       "    <tr>\n",
       "      <th>0</th>\n",
       "      <td>Dataset/Happy/</td>\n",
       "      <td>Happy_237.jpg</td>\n",
       "      <td>Sad</td>\n",
       "      <td>6</td>\n",
       "    </tr>\n",
       "    <tr>\n",
       "      <th>1</th>\n",
       "      <td>Dataset/Suprised/</td>\n",
       "      <td>Suprised_31.jpg</td>\n",
       "      <td>Suprised</td>\n",
       "      <td>7</td>\n",
       "    </tr>\n",
       "    <tr>\n",
       "      <th>2</th>\n",
       "      <td>Dataset/Afraid/</td>\n",
       "      <td>Afraid_214.jpg</td>\n",
       "      <td>Afraid</td>\n",
       "      <td>3</td>\n",
       "    </tr>\n",
       "    <tr>\n",
       "      <th>3</th>\n",
       "      <td>Dataset/Neutral/</td>\n",
       "      <td>Neutral_189.jpg</td>\n",
       "      <td>Neutral</td>\n",
       "      <td>5</td>\n",
       "    </tr>\n",
       "    <tr>\n",
       "      <th>4</th>\n",
       "      <td>Dataset/Neutral/</td>\n",
       "      <td>Neutral_18.jpg</td>\n",
       "      <td>Neutral</td>\n",
       "      <td>5</td>\n",
       "    </tr>\n",
       "  </tbody>\n",
       "</table>\n",
       "</div>"
      ],
      "text/plain": [
       "          folderName        imageName   Emotion  Labels\n",
       "0     Dataset/Happy/    Happy_237.jpg       Sad       6\n",
       "1  Dataset/Suprised/  Suprised_31.jpg  Suprised       7\n",
       "2    Dataset/Afraid/   Afraid_214.jpg    Afraid       3\n",
       "3   Dataset/Neutral/  Neutral_189.jpg   Neutral       5\n",
       "4   Dataset/Neutral/   Neutral_18.jpg   Neutral       5"
      ]
     },
     "execution_count": 84,
     "metadata": {},
     "output_type": "execute_result"
    }
   ],
   "source": [
    "\n",
    "\n",
    "df_human_train = pd.read_pickle(\"Dataset/df_human_train.pkl\")\n",
    "df_human_train.head()"
   ]
  },
  {
   "cell_type": "code",
   "execution_count": 85,
   "metadata": {},
   "outputs": [
    {
     "data": {
      "text/html": [
       "<div>\n",
       "<style scoped>\n",
       "    .dataframe tbody tr th:only-of-type {\n",
       "        vertical-align: middle;\n",
       "    }\n",
       "\n",
       "    .dataframe tbody tr th {\n",
       "        vertical-align: top;\n",
       "    }\n",
       "\n",
       "    .dataframe thead th {\n",
       "        text-align: right;\n",
       "    }\n",
       "</style>\n",
       "<table border=\"1\" class=\"dataframe\">\n",
       "  <thead>\n",
       "    <tr style=\"text-align: right;\">\n",
       "      <th></th>\n",
       "      <th>folderName</th>\n",
       "      <th>imageName</th>\n",
       "      <th>Emotion</th>\n",
       "      <th>Labels</th>\n",
       "    </tr>\n",
       "  </thead>\n",
       "  <tbody>\n",
       "    <tr>\n",
       "      <th>0</th>\n",
       "      <td>Dataset/Suprised/</td>\n",
       "      <td>Suprised_281.jpg</td>\n",
       "      <td>Suprised</td>\n",
       "      <td>7</td>\n",
       "    </tr>\n",
       "    <tr>\n",
       "      <th>1</th>\n",
       "      <td>Dataset/Happy/</td>\n",
       "      <td>Happy_130.jpg</td>\n",
       "      <td>Sad</td>\n",
       "      <td>6</td>\n",
       "    </tr>\n",
       "    <tr>\n",
       "      <th>2</th>\n",
       "      <td>Dataset/Angry/</td>\n",
       "      <td>Angry_322.jpg</td>\n",
       "      <td>Angry</td>\n",
       "      <td>1</td>\n",
       "    </tr>\n",
       "    <tr>\n",
       "      <th>3</th>\n",
       "      <td>Dataset/Happy/</td>\n",
       "      <td>Happy_55.jpg</td>\n",
       "      <td>Sad</td>\n",
       "      <td>6</td>\n",
       "    </tr>\n",
       "    <tr>\n",
       "      <th>4</th>\n",
       "      <td>Dataset/Neutral/</td>\n",
       "      <td>Neutral_275.jpg</td>\n",
       "      <td>Neutral</td>\n",
       "      <td>5</td>\n",
       "    </tr>\n",
       "  </tbody>\n",
       "</table>\n",
       "</div>"
      ],
      "text/plain": [
       "          folderName         imageName   Emotion  Labels\n",
       "0  Dataset/Suprised/  Suprised_281.jpg  Suprised       7\n",
       "1     Dataset/Happy/     Happy_130.jpg       Sad       6\n",
       "2     Dataset/Angry/     Angry_322.jpg     Angry       1\n",
       "3     Dataset/Happy/      Happy_55.jpg       Sad       6\n",
       "4   Dataset/Neutral/   Neutral_275.jpg   Neutral       5"
      ]
     },
     "execution_count": 85,
     "metadata": {},
     "output_type": "execute_result"
    }
   ],
   "source": [
    "\n",
    "\n",
    "df_human_cv = pd.read_pickle(\"Dataset/df_human_cv.pkl\")\n",
    "df_human_cv.head()\n",
    "\n"
   ]
  },
  {
   "cell_type": "code",
   "execution_count": 86,
   "metadata": {},
   "outputs": [
    {
     "data": {
      "text/html": [
       "<div>\n",
       "<style scoped>\n",
       "    .dataframe tbody tr th:only-of-type {\n",
       "        vertical-align: middle;\n",
       "    }\n",
       "\n",
       "    .dataframe tbody tr th {\n",
       "        vertical-align: top;\n",
       "    }\n",
       "\n",
       "    .dataframe thead th {\n",
       "        text-align: right;\n",
       "    }\n",
       "</style>\n",
       "<table border=\"1\" class=\"dataframe\">\n",
       "  <thead>\n",
       "    <tr style=\"text-align: right;\">\n",
       "      <th></th>\n",
       "      <th>folderName</th>\n",
       "      <th>imageName</th>\n",
       "      <th>Emotion</th>\n",
       "      <th>Labels</th>\n",
       "    </tr>\n",
       "  </thead>\n",
       "  <tbody>\n",
       "    <tr>\n",
       "      <th>0</th>\n",
       "      <td>Dataset/Neutral/</td>\n",
       "      <td>Neutral_331.jpg</td>\n",
       "      <td>Neutral</td>\n",
       "      <td>5</td>\n",
       "    </tr>\n",
       "    <tr>\n",
       "      <th>1</th>\n",
       "      <td>Dataset/Angry/</td>\n",
       "      <td>Angry_69.jpg</td>\n",
       "      <td>Angry</td>\n",
       "      <td>1</td>\n",
       "    </tr>\n",
       "    <tr>\n",
       "      <th>2</th>\n",
       "      <td>Dataset/Happy/</td>\n",
       "      <td>Happy_25.jpg</td>\n",
       "      <td>Happy</td>\n",
       "      <td>4</td>\n",
       "    </tr>\n",
       "    <tr>\n",
       "      <th>3</th>\n",
       "      <td>Dataset/Afraid/</td>\n",
       "      <td>Afraid_260.jpg</td>\n",
       "      <td>Afraid</td>\n",
       "      <td>3</td>\n",
       "    </tr>\n",
       "    <tr>\n",
       "      <th>4</th>\n",
       "      <td>Dataset/Happy/</td>\n",
       "      <td>Happy_82.jpg</td>\n",
       "      <td>Happy</td>\n",
       "      <td>4</td>\n",
       "    </tr>\n",
       "  </tbody>\n",
       "</table>\n",
       "</div>"
      ],
      "text/plain": [
       "         folderName        imageName  Emotion  Labels\n",
       "0  Dataset/Neutral/  Neutral_331.jpg  Neutral       5\n",
       "1    Dataset/Angry/     Angry_69.jpg    Angry       1\n",
       "2    Dataset/Happy/     Happy_25.jpg    Happy       4\n",
       "3   Dataset/Afraid/   Afraid_260.jpg   Afraid       3\n",
       "4    Dataset/Happy/     Happy_82.jpg    Happy       4"
      ]
     },
     "execution_count": 86,
     "metadata": {},
     "output_type": "execute_result"
    }
   ],
   "source": [
    "df_human_test = pd.read_pickle(\"Dataset/df_human_test.pkl\")\n",
    "df_human_test.head()"
   ]
  },
  {
   "cell_type": "code",
   "execution_count": 87,
   "metadata": {},
   "outputs": [],
   "source": [
    "\n",
    "\n",
    "df_temp_train = df_human_train.sort_values(by = \"Labels\", inplace = False)\n",
    "df_temp_cv = df_human_cv.sort_values(by = \"Labels\", inplace = False)\n",
    "df_temp_test = df_human_test.sort_values(by = \"Labels\", inplace = False)\n",
    "\n",
    "TrainData_distribution = df_human_train[\"Emotion\"].value_counts().sort_index()\n",
    "CVData_distribution = df_human_cv[\"Emotion\"].value_counts().sort_index()\n",
    "TestData_distribution = df_human_test[\"Emotion\"].value_counts().sort_index()\n",
    "\n",
    "TrainData_distribution_sorted = sorted(TrainData_distribution.items(), key = lambda d: d[1], reverse = True)\n",
    "CVData_distribution_sorted = sorted(CVData_distribution.items(), key = lambda d: d[1], reverse = True)\n",
    "TestData_distribution_sorted = sorted(TestData_distribution.items(), key = lambda d: d[1], reverse = True)\n",
    "\n"
   ]
  },
  {
   "cell_type": "code",
   "execution_count": 88,
   "metadata": {},
   "outputs": [
    {
     "data": {
      "image/png": "[encoded data removed]",
      "text/plain": [
       "<Figure size 720x432 with 1 Axes>"
      ]
     },
     "metadata": {
      "needs_background": "light"
     },
     "output_type": "display_data"
    },
    {
     "name": "stdout",
     "output_type": "stream",
     "text": [
      "Number of training data points in class Angry = 234(14.347%)\n",
      "Number of training data points in class Afraid = 233(14.2857%)\n",
      "Number of training data points in class Happy = 233(14.2857%)\n",
      "Number of training data points in class Neutral = 233(14.2857%)\n",
      "Number of training data points in class Sad = 233(14.2857%)\n",
      "Number of training data points in class Suprised = 233(14.2857%)\n",
      "Number of training data points in class Disgusted = 232(14.2244%)\n",
      "--------------------------------------------------------------------------------\n"
     ]
    },
    {
     "data": {
      "image/png": "[encoded data removed]",
      "text/plain": [
       "<Figure size 720x432 with 1 Axes>"
      ]
     },
     "metadata": {
      "needs_background": "light"
     },
     "output_type": "display_data"
    },
    {
     "name": "stdout",
     "output_type": "stream",
     "text": [
      "Number of training data points in class Afraid = 47(14.3731%)\n",
      "Number of training data points in class Angry = 47(14.3731%)\n",
      "Number of training data points in class Happy = 47(14.3731%)\n",
      "Number of training data points in class Neutral = 47(14.3731%)\n",
      "Number of training data points in class Sad = 47(14.3731%)\n",
      "Number of training data points in class Disgusted = 46(14.0673%)\n",
      "Number of training data points in class Suprised = 46(14.0673%)\n",
      "--------------------------------------------------------------------------------\n"
     ]
    },
    {
     "data": {
      "image/png": "[encoded data removed]",
      "text/plain": [
       "<Figure size 720x432 with 1 Axes>"
      ]
     },
     "metadata": {
      "needs_background": "light"
     },
     "output_type": "display_data"
    },
    {
     "name": "stdout",
     "output_type": "stream",
     "text": [
      "Number of training data points in class Afraid = 69(14.2857%)\n",
      "Number of training data points in class Angry = 69(14.2857%)\n",
      "Number of training data points in class Disgusted = 69(14.2857%)\n",
      "Number of training data points in class Happy = 69(14.2857%)\n",
      "Number of training data points in class Neutral = 69(14.2857%)\n",
      "Number of training data points in class Sad = 69(14.2857%)\n",
      "Number of training data points in class Suprised = 69(14.2857%)\n"
     ]
    }
   ],
   "source": [
    "fig = plt.figure(figsize = (10, 6))\n",
    "ax = fig.add_axes([0,0,1,1])\n",
    "ax.set_title(\"Count of each Emotion in Train Data\", fontsize = 20)\n",
    "sns.countplot(x = \"Emotion\", data = df_temp_train)\n",
    "plt.grid()\n",
    "for i in ax.patches:\n",
    "    ax.text(x = i.get_x() + 0.2, y = i.get_height()+1.5, s = str(i.get_height()), fontsize = 20, color = \"grey\")\n",
    "plt.xlabel(\"\")\n",
    "plt.ylabel(\"Count\", fontsize = 15)\n",
    "plt.tick_params(labelsize = 15)\n",
    "plt.xticks(rotation = 40)\n",
    "plt.show()\n",
    "\n",
    "for i in TrainData_distribution_sorted:\n",
    "    print(\"Number of training data points in class \"+str(i[0])+\" = \"+str(i[1])+ \"(\"+str(np.round(((i[1]/df_temp_train.shape[0])*100), 4))+\"%)\")\n",
    "\n",
    "print(\"-\"*80)\n",
    "\n",
    "fig = plt.figure(figsize = (10, 6))\n",
    "ax = fig.add_axes([0,0,1,1])\n",
    "ax.set_title(\"Count of each Emotion in Validation Data\", fontsize = 20)\n",
    "sns.countplot(x = \"Emotion\", data = df_temp_cv)\n",
    "plt.grid()\n",
    "for i in ax.patches:\n",
    "    ax.text(x = i.get_x() + 0.27, y = i.get_height()+0.2, s = str(i.get_height()), fontsize = 20, color = \"grey\")\n",
    "plt.xlabel(\"\")\n",
    "plt.ylabel(\"Count\", fontsize = 15)\n",
    "plt.tick_params(labelsize = 15)\n",
    "plt.xticks(rotation = 40)\n",
    "plt.show()\n",
    "\n",
    "for i in CVData_distribution_sorted:\n",
    "    print(\"Number of training data points in class \"+str(i[0])+\" = \"+str(i[1])+ \"(\"+str(np.round(((i[1]/df_temp_cv.shape[0])*100), 4))+\"%)\")\n",
    "\n",
    "print(\"-\"*80)\n",
    "\n",
    "fig = plt.figure(figsize = (10, 6))\n",
    "ax = fig.add_axes([0,0,1,1])\n",
    "ax.set_title(\"Count of each Emotion in Test Data\", fontsize = 20)\n",
    "sns.countplot(x = \"Emotion\", data = df_temp_test)\n",
    "plt.grid()\n",
    "for i in ax.patches:\n",
    "    ax.text(x = i.get_x() + 0.27, y = i.get_height()+0.2, s = str(i.get_height()), fontsize = 20, color = \"grey\")\n",
    "plt.xlabel(\"\")\n",
    "plt.ylabel(\"Count\", fontsize = 15)\n",
    "plt.tick_params(labelsize = 15)\n",
    "plt.xticks(rotation = 40)\n",
    "plt.show()\n",
    "\n",
    "for i in TestData_distribution_sorted:\n",
    "    print(\"Number of training data points in class \"+str(i[0])+\" = \"+str(i[1])+ \"(\"+str(np.round(((i[1]/df_temp_test.shape[0])*100), 4))+\"%)\")"
   ]
  },
  {
   "cell_type": "code",
   "execution_count": 90,
   "metadata": {},
   "outputs": [],
   "source": [
    "def convt_to_gray(df):\n",
    "    count = 0\n",
    "    for i in range(len(df)):\n",
    "        path1 = df[\"folderName\"][i]\n",
    "        path2 = df[\"imageName\"][i]\n",
    "        img = cv2.imread(os.path.join(path1, path2))\n",
    "        gray = cv2.cvtColor(img, cv2.COLOR_BGR2GRAY)\n",
    "        cv2.imwrite(os.path.join(path1, path2), gray)\n",
    "        count += 1\n",
    "    print(\"Total number of images converted and saved = \"+str(count))"
   ]
  },
  {
   "cell_type": "code",
   "execution_count": 91,
   "metadata": {},
   "outputs": [
    {
     "name": "stdout",
     "output_type": "stream",
     "text": [
      "Total number of images converted and saved = 1631\n"
     ]
    }
   ],
   "source": [
    "convt_to_gray(df_human_train)"
   ]
  },
  {
   "cell_type": "code",
   "execution_count": 92,
   "metadata": {},
   "outputs": [
    {
     "name": "stdout",
     "output_type": "stream",
     "text": [
      "Total number of images converted and saved = 327\n"
     ]
    }
   ],
   "source": [
    "convt_to_gray(df_human_cv)"
   ]
  },
  {
   "cell_type": "code",
   "execution_count": 93,
   "metadata": {},
   "outputs": [
    {
     "name": "stdout",
     "output_type": "stream",
     "text": [
      "Total number of images converted and saved = 483\n"
     ]
    }
   ],
   "source": [
    "convt_to_gray(df_human_test)"
   ]
  },
  {
   "cell_type": "code",
   "execution_count": 94,
   "metadata": {},
   "outputs": [],
   "source": [
    "df_human_train= df_human_train.sample(frac= 1.0)\n",
    "df_human_train.reset_index(inplace = True, drop = True)\n",
    "df_human_train.to_pickle(\"Dataset/combined_train.pkl\")"
   ]
  },
  {
   "cell_type": "code",
   "execution_count": 101,
   "metadata": {},
   "outputs": [],
   "source": [
    "TrainCombined_batch_pointer = 0\n",
    "CVHumans_batch_pointer = 0\n",
    "CVAnimated_batch_pointer = 0\n",
    "TestHumans_batch_pointer = 0\n",
    "TestAnimated_batch_pointer = 0"
   ]
  },
  {
   "cell_type": "code",
   "execution_count": 96,
   "metadata": {},
   "outputs": [],
   "source": [
    "Train_Combined = pd.read_pickle(\"Dataset/combined_train.pkl\")\n",
    "\n"
   ]
  },
  {
   "cell_type": "code",
   "execution_count": 98,
   "metadata": {},
   "outputs": [
    {
     "name": "stderr",
     "output_type": "stream",
     "text": [
      "/home/saksham.goyal.16csc/anaconda3/envs/ED/lib/python3.6/site-packages/ipykernel_launcher.py:1: FutureWarning: Method .as_matrix will be removed in a future version. Use .values instead.\n",
      "  \"\"\"Entry point for launching an IPython kernel.\n"
     ]
    },
    {
     "data": {
      "text/plain": [
       "(1631, 7)"
      ]
     },
     "execution_count": 98,
     "metadata": {},
     "output_type": "execute_result"
    }
   ],
   "source": [
    "TrainCombined_Labels = pd.get_dummies(Train_Combined[\"Labels\"]).as_matrix()\n",
    "TrainCombined_Labels.shape"
   ]
  },
  {
   "cell_type": "code",
   "execution_count": 108,
   "metadata": {},
   "outputs": [],
   "source": [
    "\n",
    "\n",
    "def loadCombinedTrainBatch(batch_size):\n",
    "    global TrainCombined_batch_pointer\n",
    "    batch_images = []\n",
    "    batch_labels = []\n",
    "    for i in range(batch_size):\n",
    "        path1 = Train_Combined.iloc[TrainCombined_batch_pointer + i][\"folderName\"]\n",
    "        path2 = Train_Combined.iloc[TrainCombined_batch_pointer + i][\"imageName\"]\n",
    "        read_image = cv2.imread(os.path.join(path1, path2))\n",
    "        read_image_final = read_image/255.0  #here, we are normalizing the images\n",
    "        batch_images.append(read_image_final)\n",
    "        \n",
    "        batch_labels.append(TrainCombined_Labels[TrainCombined_batch_pointer + i]) #appending corresponding labels\n",
    "        \n",
    "    TrainCombined_batch_pointer += batch_size\n",
    "    \n",
    "    \n",
    "        \n",
    "    return np.array(batch_images), np.array(batch_labels)\n",
    "\n"
   ]
  },
  {
   "cell_type": "code",
   "execution_count": 110,
   "metadata": {},
   "outputs": [
    {
     "name": "stdout",
     "output_type": "stream",
     "text": [
      "Batch 1 loaded\n",
      "Creating bottleneck features for batch 1\n",
      "Batch 2 loaded\n",
      "Creating bottleneck features for batch 2\n",
      "Batch 3 loaded\n",
      "Creating bottleneck features for batch 3\n",
      "Batch 4 loaded\n",
      "Creating bottleneck features for batch 4\n",
      "Batch 5 loaded\n",
      "Creating bottleneck features for batch 5\n",
      "Batch 6 loaded\n",
      "Creating bottleneck features for batch 6\n",
      "Batch 7 loaded\n",
      "Creating bottleneck features for batch 7\n",
      "Batch 8 loaded\n",
      "Creating bottleneck features for batch 8\n",
      "Batch 9 loaded\n",
      "Creating bottleneck features for batch 9\n",
      "Batch 10 loaded\n",
      "Creating bottleneck features for batch 10\n",
      "Batch 11 loaded\n",
      "Creating bottleneck features for batch 11\n",
      "Batch 12 loaded\n",
      "Creating bottleneck features for batch 12\n",
      "Batch 13 loaded\n",
      "Creating bottleneck features for batch 13\n",
      "Batch 14 loaded\n",
      "Creating bottleneck features for batch 14\n",
      "Batch 15 loaded\n",
      "Creating bottleneck features for batch 15\n",
      "Batch 16 loaded\n",
      "Creating bottleneck features for batch 16\n",
      "Batch 17 loaded\n",
      "Creating bottleneck features for batch 17\n",
      "Batch 18 loaded\n",
      "Creating bottleneck features for batch 18\n",
      "Batch 19 loaded\n",
      "Creating bottleneck features for batch 19\n",
      "Batch 20 loaded\n",
      "Creating bottleneck features for batch 20\n",
      "Batch 21 loaded\n",
      "Creating bottleneck features for batch 21\n",
      "Batch 22 loaded\n",
      "Creating bottleneck features for batch 22\n",
      "Batch 23 loaded\n",
      "Creating bottleneck features for batch 23\n",
      "Batch 24 loaded\n",
      "Creating bottleneck features for batch 24\n",
      "Batch 25 loaded\n",
      "Creating bottleneck features for batch 25\n",
      "Batch 26 loaded\n",
      "Creating bottleneck features for batch 26\n",
      "Batch 27 loaded\n",
      "Creating bottleneck features for batch 27\n",
      "Batch 28 loaded\n",
      "Creating bottleneck features for batch 28\n",
      "Batch 29 loaded\n",
      "Creating bottleneck features for batch 29\n",
      "Batch 30 loaded\n",
      "Creating bottleneck features for batch 30\n",
      "Batch 31 loaded\n",
      "Creating bottleneck features for batch 31\n",
      "Batch 32 loaded\n",
      "Creating bottleneck features for batch 32\n",
      "Batch 33 loaded\n",
      "Creating bottleneck features for batch 33\n",
      "Batch 34 loaded\n",
      "Creating bottleneck features for batch 34\n",
      "Batch 35 loaded\n",
      "Creating bottleneck features for batch 35\n",
      "Batch 36 loaded\n",
      "Creating bottleneck features for batch 36\n",
      "Batch 37 loaded\n",
      "Creating bottleneck features for batch 37\n",
      "Batch 38 loaded\n",
      "Creating bottleneck features for batch 38\n",
      "Batch 39 loaded\n",
      "Creating bottleneck features for batch 39\n",
      "Batch 40 loaded\n",
      "Creating bottleneck features for batch 40\n",
      "Batch 41 loaded\n",
      "Creating bottleneck features for batch 41\n",
      "Batch 42 loaded\n",
      "Creating bottleneck features for batch 42\n",
      "Batch 43 loaded\n",
      "Creating bottleneck features for batch 43\n",
      "Batch 44 loaded\n",
      "Creating bottleneck features for batch 44\n",
      "Batch 45 loaded\n",
      "Creating bottleneck features for batch 45\n",
      "Batch 46 loaded\n",
      "Creating bottleneck features for batch 46\n",
      "Batch 47 loaded\n",
      "Creating bottleneck features for batch 47\n",
      "Batch 48 loaded\n",
      "Creating bottleneck features for batch 48\n",
      "Batch 49 loaded\n",
      "Creating bottleneck features for batch 49\n",
      "Batch 50 loaded\n",
      "Creating bottleneck features for batch 50\n",
      "Batch 51 loaded\n",
      "Creating bottleneck features for batch 51\n",
      "Batch 52 loaded\n",
      "Creating bottleneck features for batch 52\n",
      "Batch 53 loaded\n",
      "Creating bottleneck features for batch 53\n",
      "Batch 54 loaded\n",
      "Creating bottleneck features for batch 54\n",
      "Batch 55 loaded\n",
      "Creating bottleneck features for batch 55\n",
      "Batch 56 loaded\n",
      "Creating bottleneck features for batch 56\n",
      "Batch 57 loaded\n",
      "Creating bottleneck features for batch 57\n",
      "Batch 58 loaded\n",
      "Creating bottleneck features for batch 58\n",
      "Batch 59 loaded\n",
      "Creating bottleneck features for batch 59\n",
      "Batch 60 loaded\n",
      "Creating bottleneck features for batch 60\n",
      "Batch 61 loaded\n",
      "Creating bottleneck features for batch 61\n",
      "Batch 62 loaded\n",
      "Creating bottleneck features for batch 62\n",
      "Batch 63 loaded\n",
      "Creating bottleneck features for batch 63\n",
      "Batch 64 loaded\n",
      "Creating bottleneck features for batch 64\n",
      "Batch 65 loaded\n",
      "Creating bottleneck features for batch 65\n",
      "Batch 66 loaded\n",
      "Creating bottleneck features for batch 66\n",
      "Batch 67 loaded\n",
      "Creating bottleneck features for batch 67\n",
      "Batch 68 loaded\n",
      "Creating bottleneck features for batch 68\n",
      "Batch 69 loaded\n",
      "Creating bottleneck features for batch 69\n",
      "Batch 70 loaded\n",
      "Creating bottleneck features for batch 70\n",
      "Batch 71 loaded\n",
      "Creating bottleneck features for batch 71\n",
      "Batch 72 loaded\n",
      "Creating bottleneck features for batch 72\n",
      "Batch 73 loaded\n",
      "Creating bottleneck features for batch 73\n",
      "Batch 74 loaded\n",
      "Creating bottleneck features for batch 74\n",
      "Batch 75 loaded\n",
      "Creating bottleneck features for batch 75\n",
      "Batch 76 loaded\n",
      "Creating bottleneck features for batch 76\n",
      "Batch 77 loaded\n",
      "Creating bottleneck features for batch 77\n",
      "Batch 78 loaded\n",
      "Creating bottleneck features for batch 78\n",
      "Batch 79 loaded\n",
      "Creating bottleneck features for batch 79\n",
      "Batch 80 loaded\n",
      "Creating bottleneck features for batch 80\n",
      "Batch 81 loaded\n",
      "Creating bottleneck features for batch 81\n",
      "Batch 82 loaded\n",
      "Creating bottleneck features for batch 82\n",
      "Batch 83 loaded\n",
      "Creating bottleneck features for batch 83\n",
      "Batch 84 loaded\n",
      "Creating bottleneck features for batch 84\n",
      "Batch 85 loaded\n",
      "Creating bottleneck features for batch 85\n",
      "Batch 86 loaded\n",
      "Creating bottleneck features for batch 86\n",
      "Batch 87 loaded\n",
      "Creating bottleneck features for batch 87\n",
      "Batch 88 loaded\n",
      "Creating bottleneck features for batch 88\n",
      "Batch 89 loaded\n",
      "Creating bottleneck features for batch 89\n",
      "Batch 90 loaded\n",
      "Creating bottleneck features for batch 90\n",
      "Batch 91 loaded\n",
      "Creating bottleneck features for batch 91\n",
      "Batch 92 loaded\n",
      "Creating bottleneck features for batch 92\n",
      "Batch 93 loaded\n",
      "Creating bottleneck features for batch 93\n",
      "Batch 94 loaded\n",
      "Creating bottleneck features for batch 94\n",
      "Batch 95 loaded\n",
      "Creating bottleneck features for batch 95\n",
      "Batch 96 loaded\n",
      "Creating bottleneck features for batch 96\n",
      "Batch 97 loaded\n",
      "Creating bottleneck features for batch 97\n",
      "Batch 98 loaded\n",
      "Creating bottleneck features for batch 98\n",
      "Batch 99 loaded\n",
      "Creating bottleneck features for batch 99\n",
      "Batch 100 loaded\n",
      "Creating bottleneck features for batch 100\n",
      "Batch 101 loaded\n",
      "Creating bottleneck features for batch 101\n",
      "Batch 102 loaded\n",
      "Creating bottleneck features for batch 102\n",
      "Batch 103 loaded\n",
      "Creating bottleneck features for batch 103\n",
      "Batch 104 loaded\n",
      "Creating bottleneck features for batch 104\n",
      "Batch 105 loaded\n",
      "Creating bottleneck features for batch 105\n",
      "Batch 106 loaded\n",
      "Creating bottleneck features for batch 106\n",
      "Batch 107 loaded\n",
      "Creating bottleneck features for batch 107\n",
      "Batch 108 loaded\n",
      "Creating bottleneck features for batch 108\n",
      "Batch 109 loaded\n",
      "Creating bottleneck features for batch 109\n",
      "Batch 110 loaded\n",
      "Creating bottleneck features for batch 110\n",
      "Batch 111 loaded\n",
      "Creating bottleneck features for batch 111\n",
      "Batch 112 loaded\n",
      "Creating bottleneck features for batch 112\n",
      "Batch 113 loaded\n",
      "Creating bottleneck features for batch 113\n",
      "Batch 114 loaded\n",
      "Creating bottleneck features for batch 114\n",
      "Batch 115 loaded\n",
      "Creating bottleneck features for batch 115\n",
      "Batch 116 loaded\n",
      "Creating bottleneck features for batch 116\n",
      "Batch 117 loaded\n",
      "Creating bottleneck features for batch 117\n",
      "Batch 118 loaded\n",
      "Creating bottleneck features for batch 118\n",
      "Batch 119 loaded\n",
      "Creating bottleneck features for batch 119\n",
      "Batch 120 loaded\n",
      "Creating bottleneck features for batch 120\n",
      "Batch 121 loaded\n",
      "Creating bottleneck features for batch 121\n",
      "Batch 122 loaded\n",
      "Creating bottleneck features for batch 122\n",
      "Batch 123 loaded\n",
      "Creating bottleneck features for batch 123\n",
      "Batch 124 loaded\n",
      "Creating bottleneck features for batch 124\n",
      "Batch 125 loaded\n",
      "Creating bottleneck features for batch 125\n",
      "Batch 126 loaded\n",
      "Creating bottleneck features for batch 126\n",
      "Batch 127 loaded\n",
      "Creating bottleneck features for batch 127\n",
      "Batch 128 loaded\n",
      "Creating bottleneck features for batch 128\n",
      "Batch 129 loaded\n",
      "Creating bottleneck features for batch 129\n",
      "Batch 130 loaded\n",
      "Creating bottleneck features for batch 130\n",
      "Batch 131 loaded\n",
      "Creating bottleneck features for batch 131\n",
      "Batch 132 loaded\n",
      "Creating bottleneck features for batch 132\n",
      "Batch 133 loaded\n",
      "Creating bottleneck features for batch 133\n",
      "Batch 134 loaded\n",
      "Creating bottleneck features for batch 134\n",
      "Batch 135 loaded\n",
      "Creating bottleneck features for batch 135\n",
      "Batch 136 loaded\n",
      "Creating bottleneck features for batch 136\n",
      "Batch 137 loaded\n",
      "Creating bottleneck features for batch 137\n",
      "Batch 138 loaded\n",
      "Creating bottleneck features for batch 138\n",
      "Batch 139 loaded\n",
      "Creating bottleneck features for batch 139\n",
      "Batch 140 loaded\n",
      "Creating bottleneck features for batch 140\n",
      "Batch 141 loaded\n",
      "Creating bottleneck features for batch 141\n",
      "Batch 142 loaded\n",
      "Creating bottleneck features for batch 142\n"
     ]
    },
    {
     "name": "stdout",
     "output_type": "stream",
     "text": [
      "Batch 143 loaded\n",
      "Creating bottleneck features for batch 143\n",
      "Batch 144 loaded\n",
      "Creating bottleneck features for batch 144\n",
      "Batch 145 loaded\n",
      "Creating bottleneck features for batch 145\n",
      "Batch 146 loaded\n",
      "Creating bottleneck features for batch 146\n",
      "Batch 147 loaded\n",
      "Creating bottleneck features for batch 147\n",
      "Batch 148 loaded\n",
      "Creating bottleneck features for batch 148\n",
      "Batch 149 loaded\n",
      "Creating bottleneck features for batch 149\n",
      "Batch 150 loaded\n",
      "Creating bottleneck features for batch 150\n",
      "Batch 151 loaded\n",
      "Creating bottleneck features for batch 151\n",
      "Batch 152 loaded\n",
      "Creating bottleneck features for batch 152\n",
      "Batch 153 loaded\n",
      "Creating bottleneck features for batch 153\n",
      "Batch 154 loaded\n",
      "Creating bottleneck features for batch 154\n",
      "Batch 155 loaded\n",
      "Creating bottleneck features for batch 155\n",
      "Batch 156 loaded\n",
      "Creating bottleneck features for batch 156\n",
      "Batch 157 loaded\n",
      "Creating bottleneck features for batch 157\n",
      "Batch 158 loaded\n",
      "Creating bottleneck features for batch 158\n"
     ]
    },
    {
     "ename": "IndexError",
     "evalue": "single positional indexer is out-of-bounds",
     "output_type": "error",
     "traceback": [
      "\u001b[0;31m---------------------------------------------------------------------------\u001b[0m",
      "\u001b[0;31mIndexError\u001b[0m                                Traceback (most recent call last)",
      "\u001b[0;32m<ipython-input-110-856a4ab5e84b>\u001b[0m in \u001b[0;36m<module>\u001b[0;34m\u001b[0m\n\u001b[1;32m      4\u001b[0m \u001b[0mbatch_size\u001b[0m \u001b[0;34m=\u001b[0m \u001b[0;36m10\u001b[0m\u001b[0;34m\u001b[0m\u001b[0;34m\u001b[0m\u001b[0m\n\u001b[1;32m      5\u001b[0m \u001b[0;32mfor\u001b[0m \u001b[0mi\u001b[0m \u001b[0;32min\u001b[0m \u001b[0mrange\u001b[0m\u001b[0;34m(\u001b[0m\u001b[0mint\u001b[0m\u001b[0;34m(\u001b[0m\u001b[0mlen\u001b[0m\u001b[0;34m(\u001b[0m\u001b[0mTrain_Combined\u001b[0m\u001b[0;34m)\u001b[0m\u001b[0;34m/\u001b[0m\u001b[0mbatch_size\u001b[0m\u001b[0;34m)\u001b[0m\u001b[0;34m)\u001b[0m\u001b[0;34m:\u001b[0m\u001b[0;34m\u001b[0m\u001b[0;34m\u001b[0m\u001b[0m\n\u001b[0;32m----> 6\u001b[0;31m     \u001b[0mx\u001b[0m\u001b[0;34m,\u001b[0m \u001b[0my\u001b[0m \u001b[0;34m=\u001b[0m \u001b[0mloadCombinedTrainBatch\u001b[0m\u001b[0;34m(\u001b[0m\u001b[0mbatch_size\u001b[0m\u001b[0;34m)\u001b[0m\u001b[0;34m\u001b[0m\u001b[0;34m\u001b[0m\u001b[0m\n\u001b[0m\u001b[1;32m      7\u001b[0m     \u001b[0mprint\u001b[0m\u001b[0;34m(\u001b[0m\u001b[0;34m\"Batch {} loaded\"\u001b[0m\u001b[0;34m.\u001b[0m\u001b[0mformat\u001b[0m\u001b[0;34m(\u001b[0m\u001b[0mi\u001b[0m\u001b[0;34m+\u001b[0m\u001b[0;36m1\u001b[0m\u001b[0;34m)\u001b[0m\u001b[0;34m)\u001b[0m\u001b[0;34m\u001b[0m\u001b[0;34m\u001b[0m\u001b[0m\n\u001b[1;32m      8\u001b[0m \u001b[0;34m\u001b[0m\u001b[0m\n",
      "\u001b[0;32m<ipython-input-108-d631e7dea19e>\u001b[0m in \u001b[0;36mloadCombinedTrainBatch\u001b[0;34m(batch_size)\u001b[0m\n\u001b[1;32m      4\u001b[0m     \u001b[0mbatch_labels\u001b[0m \u001b[0;34m=\u001b[0m \u001b[0;34m[\u001b[0m\u001b[0;34m]\u001b[0m\u001b[0;34m\u001b[0m\u001b[0;34m\u001b[0m\u001b[0m\n\u001b[1;32m      5\u001b[0m     \u001b[0;32mfor\u001b[0m \u001b[0mi\u001b[0m \u001b[0;32min\u001b[0m \u001b[0mrange\u001b[0m\u001b[0;34m(\u001b[0m\u001b[0mbatch_size\u001b[0m\u001b[0;34m)\u001b[0m\u001b[0;34m:\u001b[0m\u001b[0;34m\u001b[0m\u001b[0;34m\u001b[0m\u001b[0m\n\u001b[0;32m----> 6\u001b[0;31m         \u001b[0mpath1\u001b[0m \u001b[0;34m=\u001b[0m \u001b[0mTrain_Combined\u001b[0m\u001b[0;34m.\u001b[0m\u001b[0miloc\u001b[0m\u001b[0;34m[\u001b[0m\u001b[0mTrainCombined_batch_pointer\u001b[0m \u001b[0;34m+\u001b[0m \u001b[0mi\u001b[0m\u001b[0;34m]\u001b[0m\u001b[0;34m[\u001b[0m\u001b[0;34m\"folderName\"\u001b[0m\u001b[0;34m]\u001b[0m\u001b[0;34m\u001b[0m\u001b[0;34m\u001b[0m\u001b[0m\n\u001b[0m\u001b[1;32m      7\u001b[0m         \u001b[0mpath2\u001b[0m \u001b[0;34m=\u001b[0m \u001b[0mTrain_Combined\u001b[0m\u001b[0;34m.\u001b[0m\u001b[0miloc\u001b[0m\u001b[0;34m[\u001b[0m\u001b[0mTrainCombined_batch_pointer\u001b[0m \u001b[0;34m+\u001b[0m \u001b[0mi\u001b[0m\u001b[0;34m]\u001b[0m\u001b[0;34m[\u001b[0m\u001b[0;34m\"imageName\"\u001b[0m\u001b[0;34m]\u001b[0m\u001b[0;34m\u001b[0m\u001b[0;34m\u001b[0m\u001b[0m\n\u001b[1;32m      8\u001b[0m         \u001b[0mread_image\u001b[0m \u001b[0;34m=\u001b[0m \u001b[0mcv2\u001b[0m\u001b[0;34m.\u001b[0m\u001b[0mimread\u001b[0m\u001b[0;34m(\u001b[0m\u001b[0mos\u001b[0m\u001b[0;34m.\u001b[0m\u001b[0mpath\u001b[0m\u001b[0;34m.\u001b[0m\u001b[0mjoin\u001b[0m\u001b[0;34m(\u001b[0m\u001b[0mpath1\u001b[0m\u001b[0;34m,\u001b[0m \u001b[0mpath2\u001b[0m\u001b[0;34m)\u001b[0m\u001b[0;34m)\u001b[0m\u001b[0;34m\u001b[0m\u001b[0;34m\u001b[0m\u001b[0m\n",
      "\u001b[0;32m~/anaconda3/envs/ED/lib/python3.6/site-packages/pandas/core/indexing.py\u001b[0m in \u001b[0;36m__getitem__\u001b[0;34m(self, key)\u001b[0m\n\u001b[1;32m   1408\u001b[0m \u001b[0;34m\u001b[0m\u001b[0m\n\u001b[1;32m   1409\u001b[0m             \u001b[0mmaybe_callable\u001b[0m \u001b[0;34m=\u001b[0m \u001b[0mcom\u001b[0m\u001b[0;34m.\u001b[0m\u001b[0mapply_if_callable\u001b[0m\u001b[0;34m(\u001b[0m\u001b[0mkey\u001b[0m\u001b[0;34m,\u001b[0m \u001b[0mself\u001b[0m\u001b[0;34m.\u001b[0m\u001b[0mobj\u001b[0m\u001b[0;34m)\u001b[0m\u001b[0;34m\u001b[0m\u001b[0;34m\u001b[0m\u001b[0m\n\u001b[0;32m-> 1410\u001b[0;31m             \u001b[0;32mreturn\u001b[0m \u001b[0mself\u001b[0m\u001b[0;34m.\u001b[0m\u001b[0m_getitem_axis\u001b[0m\u001b[0;34m(\u001b[0m\u001b[0mmaybe_callable\u001b[0m\u001b[0;34m,\u001b[0m \u001b[0maxis\u001b[0m\u001b[0;34m=\u001b[0m\u001b[0maxis\u001b[0m\u001b[0;34m)\u001b[0m\u001b[0;34m\u001b[0m\u001b[0;34m\u001b[0m\u001b[0m\n\u001b[0m\u001b[1;32m   1411\u001b[0m \u001b[0;34m\u001b[0m\u001b[0m\n\u001b[1;32m   1412\u001b[0m     \u001b[0;32mdef\u001b[0m \u001b[0m_is_scalar_access\u001b[0m\u001b[0;34m(\u001b[0m\u001b[0mself\u001b[0m\u001b[0;34m,\u001b[0m \u001b[0mkey\u001b[0m\u001b[0;34m:\u001b[0m \u001b[0mTuple\u001b[0m\u001b[0;34m)\u001b[0m\u001b[0;34m:\u001b[0m\u001b[0;34m\u001b[0m\u001b[0;34m\u001b[0m\u001b[0m\n",
      "\u001b[0;32m~/anaconda3/envs/ED/lib/python3.6/site-packages/pandas/core/indexing.py\u001b[0m in \u001b[0;36m_getitem_axis\u001b[0;34m(self, key, axis)\u001b[0m\n\u001b[1;32m   2130\u001b[0m \u001b[0;34m\u001b[0m\u001b[0m\n\u001b[1;32m   2131\u001b[0m             \u001b[0;31m# validate the location\u001b[0m\u001b[0;34m\u001b[0m\u001b[0;34m\u001b[0m\u001b[0;34m\u001b[0m\u001b[0m\n\u001b[0;32m-> 2132\u001b[0;31m             \u001b[0mself\u001b[0m\u001b[0;34m.\u001b[0m\u001b[0m_validate_integer\u001b[0m\u001b[0;34m(\u001b[0m\u001b[0mkey\u001b[0m\u001b[0;34m,\u001b[0m \u001b[0maxis\u001b[0m\u001b[0;34m)\u001b[0m\u001b[0;34m\u001b[0m\u001b[0;34m\u001b[0m\u001b[0m\n\u001b[0m\u001b[1;32m   2133\u001b[0m \u001b[0;34m\u001b[0m\u001b[0m\n\u001b[1;32m   2134\u001b[0m             \u001b[0;32mreturn\u001b[0m \u001b[0mself\u001b[0m\u001b[0;34m.\u001b[0m\u001b[0m_get_loc\u001b[0m\u001b[0;34m(\u001b[0m\u001b[0mkey\u001b[0m\u001b[0;34m,\u001b[0m \u001b[0maxis\u001b[0m\u001b[0;34m=\u001b[0m\u001b[0maxis\u001b[0m\u001b[0;34m)\u001b[0m\u001b[0;34m\u001b[0m\u001b[0;34m\u001b[0m\u001b[0m\n",
      "\u001b[0;32m~/anaconda3/envs/ED/lib/python3.6/site-packages/pandas/core/indexing.py\u001b[0m in \u001b[0;36m_validate_integer\u001b[0;34m(self, key, axis)\u001b[0m\n\u001b[1;32m   2061\u001b[0m         \u001b[0mlen_axis\u001b[0m \u001b[0;34m=\u001b[0m \u001b[0mlen\u001b[0m\u001b[0;34m(\u001b[0m\u001b[0mself\u001b[0m\u001b[0;34m.\u001b[0m\u001b[0mobj\u001b[0m\u001b[0;34m.\u001b[0m\u001b[0m_get_axis\u001b[0m\u001b[0;34m(\u001b[0m\u001b[0maxis\u001b[0m\u001b[0;34m)\u001b[0m\u001b[0;34m)\u001b[0m\u001b[0;34m\u001b[0m\u001b[0;34m\u001b[0m\u001b[0m\n\u001b[1;32m   2062\u001b[0m         \u001b[0;32mif\u001b[0m \u001b[0mkey\u001b[0m \u001b[0;34m>=\u001b[0m \u001b[0mlen_axis\u001b[0m \u001b[0;32mor\u001b[0m \u001b[0mkey\u001b[0m \u001b[0;34m<\u001b[0m \u001b[0;34m-\u001b[0m\u001b[0mlen_axis\u001b[0m\u001b[0;34m:\u001b[0m\u001b[0;34m\u001b[0m\u001b[0;34m\u001b[0m\u001b[0m\n\u001b[0;32m-> 2063\u001b[0;31m             \u001b[0;32mraise\u001b[0m \u001b[0mIndexError\u001b[0m\u001b[0;34m(\u001b[0m\u001b[0;34m\"single positional indexer is out-of-bounds\"\u001b[0m\u001b[0;34m)\u001b[0m\u001b[0;34m\u001b[0m\u001b[0;34m\u001b[0m\u001b[0m\n\u001b[0m\u001b[1;32m   2064\u001b[0m \u001b[0;34m\u001b[0m\u001b[0m\n\u001b[1;32m   2065\u001b[0m     \u001b[0;32mdef\u001b[0m \u001b[0m_getitem_tuple\u001b[0m\u001b[0;34m(\u001b[0m\u001b[0mself\u001b[0m\u001b[0;34m,\u001b[0m \u001b[0mtup\u001b[0m\u001b[0;34m)\u001b[0m\u001b[0;34m:\u001b[0m\u001b[0;34m\u001b[0m\u001b[0;34m\u001b[0m\u001b[0m\n",
      "\u001b[0;31mIndexError\u001b[0m: single positional indexer is out-of-bounds"
     ]
    }
   ],
   "source": [
    "model = VGG16(weights='imagenet', include_top=False)\n",
    "SAVEDIR = \"Dataset/\"\n",
    "SAVEDIR_LABELS = \"Dataset/\"\n",
    "batch_size = 10\n",
    "for i in range(int(len(Train_Combined)/batch_size)):\n",
    "    x, y = loadCombinedTrainBatch(batch_size)\n",
    "    print(\"Batch {} loaded\".format(i+1))\n",
    "    \n",
    "    np.save(os.path.join(SAVEDIR_LABELS, \"bottleneck_labels_{}\".format(i+1)), y)\n",
    "    \n",
    "    print(\"Creating bottleneck features for batch {}\". format(i+1))\n",
    "    "
   ]
  },
  {
   "cell_type": "code",
   "execution_count": null,
   "metadata": {},
   "outputs": [],
   "source": [
    "CVHumans_Labels = pd.get_dummies(CV_Humans[\"Labels\"]).as_matrix()\n",
    "CVHumans_Labels.shape"
   ]
  }
 ],
 "metadata": {
  "kernelspec": {
   "display_name": "Python 3",
   "language": "python",
   "name": "python3"
  },
  "language_info": {
   "codemirror_mode": {
    "name": "ipython",
    "version": 3
   },
   "file_extension": ".py",
   "mimetype": "text/x-python",
   "name": "python",
   "nbconvert_exporter": "python",
   "pygments_lexer": "ipython3",
   "version": "3.6.7"
  }
 },
 "nbformat": 4,
 "nbformat_minor": 2
}
